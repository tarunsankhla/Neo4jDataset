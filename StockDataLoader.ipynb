{
 "cells": [
  {
   "cell_type": "code",
   "execution_count": 1,
   "metadata": {},
   "outputs": [],
   "source": [
    "#### GRAPH DATABASE CREATION STARTS LATER ######"
   ]
  },
  {
   "cell_type": "code",
   "execution_count": 2,
   "metadata": {},
   "outputs": [],
   "source": [
    "############## FILE CREATION AND INITIAL PREPROCESSING"
   ]
  },
  {
   "cell_type": "code",
   "execution_count": 3,
   "metadata": {},
   "outputs": [],
   "source": [
    "import pandas as pd\n",
    "import numpy as np\n",
    "import glob"
   ]
  },
  {
   "cell_type": "code",
   "execution_count": 4,
   "metadata": {},
   "outputs": [],
   "source": [
    "### NSEFUTURES CSV"
   ]
  },
  {
   "cell_type": "code",
   "execution_count": 5,
   "metadata": {},
   "outputs": [
    {
     "ename": "ValueError",
     "evalue": "No objects to concatenate",
     "output_type": "error",
     "traceback": [
      "\u001b[1;31m---------------------------------------------------------------------------\u001b[0m",
      "\u001b[1;31mValueError\u001b[0m                                Traceback (most recent call last)",
      "\u001b[1;32m<ipython-input-5-6ad0ce48784e>\u001b[0m in \u001b[0;36m<module>\u001b[1;34m\u001b[0m\n\u001b[0;32m      9\u001b[0m     \u001b[0mli\u001b[0m\u001b[1;33m.\u001b[0m\u001b[0mappend\u001b[0m\u001b[1;33m(\u001b[0m\u001b[0mdf\u001b[0m\u001b[1;33m)\u001b[0m\u001b[1;33m\u001b[0m\u001b[1;33m\u001b[0m\u001b[0m\n\u001b[0;32m     10\u001b[0m \u001b[1;33m\u001b[0m\u001b[0m\n\u001b[1;32m---> 11\u001b[1;33m \u001b[0mframe\u001b[0m \u001b[1;33m=\u001b[0m \u001b[0mpd\u001b[0m\u001b[1;33m.\u001b[0m\u001b[0mconcat\u001b[0m\u001b[1;33m(\u001b[0m\u001b[0mli\u001b[0m\u001b[1;33m,\u001b[0m \u001b[0maxis\u001b[0m\u001b[1;33m=\u001b[0m\u001b[1;36m0\u001b[0m\u001b[1;33m,\u001b[0m \u001b[0mignore_index\u001b[0m\u001b[1;33m=\u001b[0m\u001b[1;32mTrue\u001b[0m\u001b[1;33m)\u001b[0m\u001b[1;33m\u001b[0m\u001b[1;33m\u001b[0m\u001b[0m\n\u001b[0m",
      "\u001b[1;32mC:\\ProgramData\\Anaconda3\\lib\\site-packages\\pandas\\core\\reshape\\concat.py\u001b[0m in \u001b[0;36mconcat\u001b[1;34m(objs, axis, join, ignore_index, keys, levels, names, verify_integrity, sort, copy)\u001b[0m\n\u001b[0;32m    272\u001b[0m     \u001b[0mValueError\u001b[0m\u001b[1;33m:\u001b[0m \u001b[0mIndexes\u001b[0m \u001b[0mhave\u001b[0m \u001b[0moverlapping\u001b[0m \u001b[0mvalues\u001b[0m\u001b[1;33m:\u001b[0m \u001b[1;33m[\u001b[0m\u001b[1;34m'a'\u001b[0m\u001b[1;33m]\u001b[0m\u001b[1;33m\u001b[0m\u001b[1;33m\u001b[0m\u001b[0m\n\u001b[0;32m    273\u001b[0m     \"\"\"\n\u001b[1;32m--> 274\u001b[1;33m     op = _Concatenator(\n\u001b[0m\u001b[0;32m    275\u001b[0m         \u001b[0mobjs\u001b[0m\u001b[1;33m,\u001b[0m\u001b[1;33m\u001b[0m\u001b[1;33m\u001b[0m\u001b[0m\n\u001b[0;32m    276\u001b[0m         \u001b[0maxis\u001b[0m\u001b[1;33m=\u001b[0m\u001b[0maxis\u001b[0m\u001b[1;33m,\u001b[0m\u001b[1;33m\u001b[0m\u001b[1;33m\u001b[0m\u001b[0m\n",
      "\u001b[1;32mC:\\ProgramData\\Anaconda3\\lib\\site-packages\\pandas\\core\\reshape\\concat.py\u001b[0m in \u001b[0;36m__init__\u001b[1;34m(self, objs, axis, join, keys, levels, names, ignore_index, verify_integrity, copy, sort)\u001b[0m\n\u001b[0;32m    329\u001b[0m \u001b[1;33m\u001b[0m\u001b[0m\n\u001b[0;32m    330\u001b[0m         \u001b[1;32mif\u001b[0m \u001b[0mlen\u001b[0m\u001b[1;33m(\u001b[0m\u001b[0mobjs\u001b[0m\u001b[1;33m)\u001b[0m \u001b[1;33m==\u001b[0m \u001b[1;36m0\u001b[0m\u001b[1;33m:\u001b[0m\u001b[1;33m\u001b[0m\u001b[1;33m\u001b[0m\u001b[0m\n\u001b[1;32m--> 331\u001b[1;33m             \u001b[1;32mraise\u001b[0m \u001b[0mValueError\u001b[0m\u001b[1;33m(\u001b[0m\u001b[1;34m\"No objects to concatenate\"\u001b[0m\u001b[1;33m)\u001b[0m\u001b[1;33m\u001b[0m\u001b[1;33m\u001b[0m\u001b[0m\n\u001b[0m\u001b[0;32m    332\u001b[0m \u001b[1;33m\u001b[0m\u001b[0m\n\u001b[0;32m    333\u001b[0m         \u001b[1;32mif\u001b[0m \u001b[0mkeys\u001b[0m \u001b[1;32mis\u001b[0m \u001b[1;32mNone\u001b[0m\u001b[1;33m:\u001b[0m\u001b[1;33m\u001b[0m\u001b[1;33m\u001b[0m\u001b[0m\n",
      "\u001b[1;31mValueError\u001b[0m: No objects to concatenate"
     ]
    }
   ],
   "source": [
    "path = r'NSEFUTURES/NiftyStocksFutures/' # use your path\n",
    "all_files = glob.glob(path + \"*/*.csv\")\n",
    "\n",
    "li = []\n",
    "count = 1\n",
    "\n",
    "for filename in all_files:\n",
    "    df = pd.read_csv(filename, index_col=None, header=0)\n",
    "    li.append(df)\n",
    "\n",
    "frame = pd.concat(li, axis=0, ignore_index=True)"
   ]
  },
  {
   "cell_type": "code",
   "execution_count": null,
   "metadata": {},
   "outputs": [],
   "source": [
    "frame = frame.fillna(value=np.nan)"
   ]
  },
  {
   "cell_type": "code",
   "execution_count": null,
   "metadata": {},
   "outputs": [],
   "source": [
    "frame = frame.fillna(-1)"
   ]
  },
  {
   "cell_type": "code",
   "execution_count": null,
   "metadata": {},
   "outputs": [],
   "source": [
    "list(frame)"
   ]
  },
  {
   "cell_type": "code",
   "execution_count": null,
   "metadata": {},
   "outputs": [],
   "source": [
    "count = 1\n",
    "ls = []\n",
    "for i in frame['Symbol'].unique():\n",
    "    mf = frame.loc[frame['Symbol'] == i]\n",
    "    mf['stockKey'] = count\n",
    "    count = count + 1\n",
    "    ls.append(mf)\n",
    "    \n",
    "frame = pd.concat(ls, axis=0, ignore_index=True)"
   ]
  },
  {
   "cell_type": "code",
   "execution_count": null,
   "metadata": {},
   "outputs": [],
   "source": [
    "frame"
   ]
  },
  {
   "cell_type": "code",
   "execution_count": null,
   "metadata": {},
   "outputs": [],
   "source": [
    "frame.rename(columns = {'Open':'Open_Price', 'High':'High_Price', \n",
    "                              'Low':'Low_Price', 'Close':'Close_Price', 'LTP':'Last_Price', 'No. of Trades':'No_of_Trades','Deliverable Qty':'Deliverable_Qty','%Dly Qt to Traded Qty':'%Dly_Qt_to_Traded_Qty', 'Settle Price':'Settle_Price', 'No. of contracts': 'No_of_Contracts','Turnover in Lacs':'Turnover_in_Lacs','Open Int':'Open_Int','Change in OI':'Change_in_OI','Underlying Value ':'Underlying_Value'}, inplace = True) "
   ]
  },
  {
   "cell_type": "code",
   "execution_count": null,
   "metadata": {},
   "outputs": [],
   "source": [
    "frame['Date']\n",
    "\n",
    "frame['Date'] = pd.to_datetime(frame.Date)"
   ]
  },
  {
   "cell_type": "code",
   "execution_count": null,
   "metadata": {},
   "outputs": [],
   "source": [
    "frame['Date'] = frame['Date'].dt.strftime('%Y-%m-%d')"
   ]
  },
  {
   "cell_type": "code",
   "execution_count": null,
   "metadata": {},
   "outputs": [],
   "source": [
    "frame['Date']"
   ]
  },
  {
   "cell_type": "code",
   "execution_count": null,
   "metadata": {},
   "outputs": [],
   "source": []
  },
  {
   "cell_type": "code",
   "execution_count": null,
   "metadata": {},
   "outputs": [],
   "source": [
    "for i in range(0, len(frame), 20000):\n",
    "    col1 = frame[i:i+20000]\n",
    "#     col1 = col1.to_frame()\n",
    "    col1.to_csv(r\"NiftyStocksFutures_col_\"+str(i)+\".csv\")"
   ]
  },
  {
   "cell_type": "code",
   "execution_count": null,
   "metadata": {},
   "outputs": [],
   "source": [
    "frame.to_csv(\"nsefutures_set2_v2.csv\")"
   ]
  },
  {
   "cell_type": "code",
   "execution_count": null,
   "metadata": {},
   "outputs": [],
   "source": [
    "# NSESECURITIES CSV"
   ]
  },
  {
   "cell_type": "code",
   "execution_count": null,
   "metadata": {},
   "outputs": [],
   "source": [
    "path = r'NSESECURITIES/' # use your path\n",
    "all_files = glob.glob(path + \"*/*.csv\")\n",
    "\n",
    "li = []\n",
    "\n",
    "for filename in all_files:\n",
    "    df = pd.read_csv(filename, index_col=None, header=0)\n",
    "    li.append(df)\n",
    "\n",
    "frame = pd.concat(li, axis=0, ignore_index=True)"
   ]
  },
  {
   "cell_type": "code",
   "execution_count": null,
   "metadata": {},
   "outputs": [],
   "source": [
    "frame = frame.fillna(value=np.nan)"
   ]
  },
  {
   "cell_type": "code",
   "execution_count": null,
   "metadata": {},
   "outputs": [],
   "source": [
    "frame = frame.fillna(-1)"
   ]
  },
  {
   "cell_type": "code",
   "execution_count": null,
   "metadata": {},
   "outputs": [],
   "source": [
    "frame.shape"
   ]
  },
  {
   "cell_type": "code",
   "execution_count": null,
   "metadata": {},
   "outputs": [],
   "source": [
    "count = 1\n",
    "ls = []\n",
    "for i in frame['Symbol'].unique():\n",
    "    mf = frame.loc[frame['Symbol'] == i]\n",
    "    mf['stockKey'] = count\n",
    "    count = count + 1\n",
    "    ls.append(mf)\n",
    "    \n",
    "frame = pd.concat(ls, axis=0, ignore_index=True)"
   ]
  },
  {
   "cell_type": "code",
   "execution_count": null,
   "metadata": {},
   "outputs": [],
   "source": [
    "frame.rename(columns = {'Open Price':'Open_Price', 'High Price':'High_Price', \n",
    "                              'Low Price':'Low_Price', 'Close Price':'Close_Price', 'Last Price':'Last_Price', 'Prev Close':'Prev_Close', 'Average Price':'Average_Price', 'Total Traded Quantity':'Total_Traded_Quantity','No. of Trades':'No_Of_Trades','Deliverable Qty':'Deliverable_Qty','% Dly Qt to Traded Qty':'%Dly_Qt_to_Traded_Qty'}, inplace=True)"
   ]
  },
  {
   "cell_type": "code",
   "execution_count": null,
   "metadata": {},
   "outputs": [],
   "source": [
    "frame['Date']\n",
    "\n",
    "frame['Date'] = pd.to_datetime(frame.Date)"
   ]
  },
  {
   "cell_type": "code",
   "execution_count": null,
   "metadata": {},
   "outputs": [],
   "source": [
    "frame['Date'] = frame['Date'].dt.strftime('%Y-%m-%d')"
   ]
  },
  {
   "cell_type": "code",
   "execution_count": null,
   "metadata": {},
   "outputs": [],
   "source": [
    "frame.columns"
   ]
  },
  {
   "cell_type": "code",
   "execution_count": null,
   "metadata": {},
   "outputs": [],
   "source": [
    "for i in range(0, len(frame), 20000):\n",
    "    col1 = frame[i:i+20000]\n",
    "#     col1 = col1.to_frame()\n",
    "    col1.to_csv(r\"nsesec_col_\"+str(i)+\".csv\")"
   ]
  },
  {
   "cell_type": "code",
   "execution_count": null,
   "metadata": {},
   "outputs": [],
   "source": [
    "frame.to_csv(\"nsesecurities_v2.csv\")"
   ]
  },
  {
   "cell_type": "code",
   "execution_count": null,
   "metadata": {
    "scrolled": true
   },
   "outputs": [],
   "source": [
    "list(frame)"
   ]
  },
  {
   "cell_type": "code",
   "execution_count": null,
   "metadata": {},
   "outputs": [],
   "source": []
  },
  {
   "cell_type": "code",
   "execution_count": null,
   "metadata": {},
   "outputs": [],
   "source": []
  },
  {
   "cell_type": "code",
   "execution_count": null,
   "metadata": {},
   "outputs": [],
   "source": []
  },
  {
   "cell_type": "code",
   "execution_count": null,
   "metadata": {},
   "outputs": [],
   "source": [
    "###################### GRAPH DATABASE CREATION BEGINS HERE ####################################"
   ]
  },
  {
   "cell_type": "code",
   "execution_count": null,
   "metadata": {},
   "outputs": [],
   "source": [
    "import pandas as pd\n",
    "import numpy as np\n",
    "from py2neo import Graph\n",
    "from neo4j import GraphDatabase"
   ]
  },
  {
   "cell_type": "code",
   "execution_count": null,
   "metadata": {},
   "outputs": [],
   "source": [
    "# df = pd.read_parquet('product_master_05062020230002.parquet/product_master_05062020230002.parquet', engine='pyarrow')\n"
   ]
  },
  {
   "cell_type": "code",
   "execution_count": null,
   "metadata": {},
   "outputs": [],
   "source": [
    "from neo4j import __version__ as neo4j_version\n",
    "print(neo4j_version)"
   ]
  },
  {
   "cell_type": "code",
   "execution_count": null,
   "metadata": {},
   "outputs": [],
   "source": [
    "from neo4j import GraphDatabase\n",
    "\n",
    "class Neo4jConnection:\n",
    "    \n",
    "    def __init__(self, uri, user, pwd):\n",
    "        self.__uri = uri\n",
    "        self.__user = user\n",
    "        self.__pwd = pwd\n",
    "        self.__driver = None\n",
    "        try:\n",
    "            self.__driver = GraphDatabase.driver(self.__uri, auth=(self.__user, self.__pwd))\n",
    "        except Exception as e:\n",
    "            print(\"Failed to create the driver:\", e)\n",
    "        \n",
    "    def close(self):\n",
    "        if self.__driver is not None:\n",
    "            self.__driver.close()\n",
    "        \n",
    "    def query(self, query, db=None):\n",
    "        assert self.__driver is not None, \"Driver not initialized!\"\n",
    "        session = None\n",
    "        response = None\n",
    "        try: \n",
    "            session = self.__driver.session(database=db) if db is not None else self.__driver.session() \n",
    "            response = list(session.run(query))\n",
    "        except Exception as e:\n",
    "            print(\"Query failed:\", e)\n",
    "        finally: \n",
    "            if session is not None:\n",
    "                session.close()\n",
    "        return response"
   ]
  },
  {
   "cell_type": "code",
   "execution_count": null,
   "metadata": {},
   "outputs": [],
   "source": [
    "conn = Neo4jConnection(uri=\"bolt://localhost:7687\", user=\"karan\", pwd=\"root\")"
   ]
  },
  {
   "cell_type": "code",
   "execution_count": null,
   "metadata": {},
   "outputs": [],
   "source": [
    "#list(frame)"
   ]
  },
  {
   "cell_type": "code",
   "execution_count": null,
   "metadata": {},
   "outputs": [],
   "source": [
    "# conn.query(\"CREATE OR REPLACE DATABASE stock\")"
   ]
  },
  {
   "cell_type": "code",
   "execution_count": null,
   "metadata": {},
   "outputs": [],
   "source": [
    "# ### lOAD DATE NODES\n",
    "\n",
    "# query_string = '''\n",
    "# LOAD CSV WITH HEADERS FROM 'file:///nsesec_col_20000.csv' AS row\n",
    "# MERGE (s:Stock { Symbol: row.Symbol, Series: row.Series, Prev_Close: row.Prev_Close, Open_Price: row.Open_Price, High_Price: row.High_Price, Low_Price:row.Low_Price,Last_Price:row.Last_Price,Close_Price:row.Close_Price,Average_Price:row.Average_Price,Total_Traded_Quantity:row.Total_Traded_Quantity })\n",
    "# MERGE (d:Date {Date: row.Date})\n",
    "\n",
    "# '''\n",
    "# # started at 10 05\n",
    "# conn.query(query_string, db='stock')"
   ]
  },
  {
   "cell_type": "code",
   "execution_count": null,
   "metadata": {},
   "outputs": [],
   "source": [
    "### lOAD DATE NODES\n",
    "\n",
    "query_string = '''\n",
    "\n",
    "LOAD CSV WITH HEADERS FROM 'file:///date_1980_onwards.csv' AS line\n",
    "CREATE (a: Date { date: line.Date})\n",
    "\n",
    "'''\n",
    "# started at 10 05\n",
    "conn.query(query_string, db='stock')"
   ]
  },
  {
   "cell_type": "code",
   "execution_count": null,
   "metadata": {},
   "outputs": [],
   "source": [
    "query_string = '''\n",
    "MATCH (n) RETURN count(n)\n",
    "'''\n",
    "\n",
    "conn.query(query_string, db='stock')"
   ]
  },
  {
   "cell_type": "code",
   "execution_count": null,
   "metadata": {},
   "outputs": [],
   "source": []
  },
  {
   "cell_type": "code",
   "execution_count": null,
   "metadata": {},
   "outputs": [],
   "source": [
    "### LOAD STOCK DATA AND POINT THEM TO THEIR RESPECTIVE DATES\n",
    "\n",
    "query_string = '''\n",
    "LOAD CSV WITH HEADERS FROM 'file:///nsesecurities_v2.csv' AS row\n",
    "CREATE (s:Stock { Symbol: row.Symbol, Series: row.Series, Prev_Close: row.Prev_Close, Open_Price: row.Open_Price, High_Price: row.High_Price, Low_Price:row.Low_Price,Last_Price:row.Last_Price,Close_Price:row.Close_Price,Average_Price:row.Average_Price,Total_Traded_Quantity:row.Total_Traded_Quantity, stockKey:row.stockKey })\n",
    "MERGE (d:Date {Date: row.Date})\n",
    "\n",
    "MERGE (s)-[:HAS_DATE]->(d)\n",
    "MERGE (d)-[:HAS_DATE]->(s)\n",
    "'''\n",
    "# started at 11 40\n",
    "conn.query(query_string, db='stock')\n"
   ]
  },
  {
   "cell_type": "code",
   "execution_count": null,
   "metadata": {},
   "outputs": [],
   "source": [
    "query_string = '''\n",
    "MATCH (n) RETURN count(n)\n",
    "'''\n",
    "\n",
    "conn.query(query_string, db='stock')"
   ]
  },
  {
   "cell_type": "code",
   "execution_count": null,
   "metadata": {},
   "outputs": [],
   "source": [
    "\n",
    "query_string = '''\n",
    "LOAD CSV WITH HEADERS FROM 'file:///nsefutures_v2.csv' AS row\n",
    "CREATE (sf:StockFutures { Symbol: row.Symbol,Date: row.Date, Expiry: row.Expiry, Open_Price:row.Open_Price,High_Price:row.High_Price, Low_Price:row.Low_Price, Close_Price:row.Close_Price, Last_Price:row.Last_Price,Settle_Price:row.Settle_Price,No_of_Contracts:row.No_of_Contracts,Turnover_in_Lacs:row.Turnover_in_Lacs, Open_Int:row.Open_Int,Change_in_OI:row.Change_in_OI,Underlying_Value:row.Underlying_Value,stockKey:row.stockKey})\n",
    "MERGE (d:Date {Date: row.Date})\n",
    "\n",
    "MERGE (sf)-[:HAS_DATE]->(d)\n",
    "MERGE (d)-[:HAS_DATE]->(sf)\n",
    "'''\n",
    "# started at 11 40\n",
    "conn.query(query_string, db='stock')"
   ]
  },
  {
   "cell_type": "code",
   "execution_count": null,
   "metadata": {},
   "outputs": [],
   "source": [
    "\n",
    "query_string = '''\n",
    "LOAD CSV WITH HEADERS FROM 'file:///nsefutures_set2_v2.csv' AS row\n",
    "CREATE (sf:StockFutures { Symbol: row.Symbol,Date: row.Date, Expiry: row.Expiry, Open_Price:row.Open_Price,High_Price:row.High_Price, Low_Price:row.Low_Price, Close_Price:row.Close_Price, Last_Price:row.Last_Price,Settle_Price:row.Settle_Price,No_of_Contracts:row.No_of_Contracts,Turnover_in_Lacs:row.Turnover_in_Lacs, Open_Int:row.Open_Int,Change_in_OI:row.Change_in_OI,Underlying_Value:row.Underlying_Value,stockKey:row.stockKey})\n",
    "MERGE (d:Date {Date: row.Date})\n",
    "\n",
    "MERGE (sf)<-[:HAS_DATE]->(d)\n",
    "MERGE (d)<-[:HAS_DATE]->(sf)\n",
    "'''\n",
    "# started at 11 40\n",
    "conn.query(query_string, db='stock')"
   ]
  },
  {
   "cell_type": "code",
   "execution_count": null,
   "metadata": {},
   "outputs": [],
   "source": [
    "query_string = '''\n",
    "MATCH (n) RETURN count(n)\n",
    "'''\n",
    "\n",
    "conn.query(query_string, db='stock')"
   ]
  },
  {
   "cell_type": "code",
   "execution_count": null,
   "metadata": {},
   "outputs": [],
   "source": [
    "### Load Stock to Company Connection Nodes\n",
    "\n",
    "query_string = '''\n",
    "LOAD CSV WITH HEADERS FROM 'file:///Stock_cin_v2.csv' AS row\n",
    "CREATE (st:StockNode { Symbol: row.Symbol})\n",
    "\n",
    " \n",
    "'''\n",
    "# started at 10 05\n",
    "conn.query(query_string, db='stock')\n"
   ]
  },
  {
   "cell_type": "code",
   "execution_count": null,
   "metadata": {},
   "outputs": [],
   "source": [
    "### LOAD COMPANY NODES AND POINT THEM TO THEIR RESPECTIVE STOCK NODES\n",
    "\n",
    "query_string = '''\n",
    "LOAD CSV WITH HEADERS FROM 'file:///Stock_cin_v2.csv' AS row\n",
    "CREATE (c:Company { Symbol: row.Symbol, Alternate_Name: row.Alternate_Name, CIN: row.CIN, Company_Name: row.Company_Name, Company_Status: row.Company_Status, RoC:row.RoC,Registration_Number:row.Registration_Number,Company_Category:row.Company_Category,Company_Sub_Category:row.Company_Sub_Category,Class_of_Company:row.Class_of_Company, Date_of_Incorporation:row.Date_of_Incorporation,Age_of_Company:row.Age_of_Company,Activity:row.Activity, Number_of_members:row.Number_of_members, Authorised_Capital:row.Authorised_Capital,Paid_up_Capital:row.Paid_up_Capital,Email:row.Email\n",
    " })\n",
    "\n",
    " \n",
    "'''\n",
    "# started at 10 05\n",
    "conn.query(query_string, db='stock')"
   ]
  },
  {
   "cell_type": "code",
   "execution_count": null,
   "metadata": {},
   "outputs": [],
   "source": [
    "query_string = '''\n",
    "MATCH (n) RETURN count(n)\n",
    "'''\n",
    "\n",
    "conn.query(query_string, db='stock')"
   ]
  },
  {
   "cell_type": "code",
   "execution_count": null,
   "metadata": {},
   "outputs": [],
   "source": [
    "### CREATE RELATIONSHIP BETWEEN COMPANY AND SINGULAR STOCKNODE\n",
    "\n",
    "query_string = '''\n",
    "\n",
    "MATCH (c:Company),(st:StockNode)\n",
    "WHERE c.Symbol = st.Symbol\n",
    "CREATE (c)-[:STOCK]->(st)\n",
    "CREATE (st)-[:STOCK]->(c)\n",
    "\n",
    "'''\n",
    "# started at 10 05\n",
    "conn.query(query_string, db='stock')"
   ]
  },
  {
   "cell_type": "code",
   "execution_count": null,
   "metadata": {},
   "outputs": [],
   "source": []
  },
  {
   "cell_type": "code",
   "execution_count": null,
   "metadata": {},
   "outputs": [],
   "source": [
    "### CREATE RELATIONSHIP BETWEEN COMPANY AND STOCK\n",
    "\n",
    "query_string = '''\n",
    "\n",
    "MATCH (st:StockNode),(s:Stock)\n",
    "WHERE st.Symbol = s.Symbol\n",
    "CREATE (st)-[:HAS_STOCK]->(s)\n",
    "CREATE (s)-[:HAS_STOCK]->(st)\n",
    "\n",
    "'''\n",
    "# started at 10 05\n",
    "conn.query(query_string, db='stock')"
   ]
  },
  {
   "cell_type": "code",
   "execution_count": null,
   "metadata": {},
   "outputs": [],
   "source": [
    "query_string = '''\n",
    "MATCH (n) RETURN count(n)\n",
    "'''\n",
    "\n",
    "conn.query(query_string, db='stock')"
   ]
  },
  {
   "cell_type": "code",
   "execution_count": null,
   "metadata": {},
   "outputs": [],
   "source": []
  },
  {
   "cell_type": "code",
   "execution_count": null,
   "metadata": {},
   "outputs": [],
   "source": [
    "### LOAD DIRECTOR DATA\n",
    "\n",
    "query_string = '''\n",
    "LOAD CSV WITH HEADERS FROM 'file:///Directors_v2.csv' AS row\n",
    "CREATE (d:Director { Symbol: row.Symbol, DIN: row.DIN, Director_Name: row.Director_Name, Designation: row.Designation, Appointment_Date:row.Appointment_Date})\n",
    " \n",
    "'''\n",
    "# started at 10 05\n",
    "conn.query(query_string, db='stock')"
   ]
  },
  {
   "cell_type": "code",
   "execution_count": null,
   "metadata": {},
   "outputs": [],
   "source": [
    "query_string = '''\n",
    "MATCH (n) RETURN count(n)\n",
    "'''\n",
    "\n",
    "conn.query(query_string, db='stock')"
   ]
  },
  {
   "cell_type": "code",
   "execution_count": null,
   "metadata": {},
   "outputs": [],
   "source": [
    "### MAKE INDIVIDUAL DIRECTOR NODES\n",
    "\n",
    "\n",
    "query_string = '''\n",
    "LOAD CSV WITH HEADERS FROM 'file:///Directors_v2.csv' AS row\n",
    "CREATE (dn:DirectorNode { Symbol: row.Symbol})\n",
    " \n",
    "'''\n",
    "# started at 10 05\n",
    "conn.query(query_string, db='stock')"
   ]
  },
  {
   "cell_type": "code",
   "execution_count": null,
   "metadata": {},
   "outputs": [],
   "source": [
    "### CONNECT DIRECTORS TO DIRECTORNODES\n",
    "\n",
    "query_string = '''\n",
    "\n",
    "MATCH (d:Director),(dn:DirectorNode)\n",
    "WHERE d.Symbol = dn.Symbol\n",
    "CREATE (d)-[:DIRECTOR]->(dn)\n",
    "CREATE (dn)-[:DIRECTOR]->(d)\n",
    "\n",
    "\n",
    "'''\n",
    "# started at 10 05\n",
    "conn.query(query_string, db='stock')"
   ]
  },
  {
   "cell_type": "code",
   "execution_count": null,
   "metadata": {},
   "outputs": [],
   "source": []
  },
  {
   "cell_type": "code",
   "execution_count": null,
   "metadata": {},
   "outputs": [],
   "source": [
    "### CONNECT DIRECTORS TO COMPANIES\n",
    "\n",
    "query_string = '''\n",
    "\n",
    "MATCH (dn:DirectorNode),(c:Company)\n",
    "WHERE dn.Symbol = c.Symbol\n",
    "CREATE (dn)-[:DIRECTOR_AT]->(c)\n",
    "CREATE (c)-[:DIRECTOR_AT]->(dn)\n",
    "\n",
    "\n",
    "'''\n",
    "# started at 10 05\n",
    "conn.query(query_string, db='stock')"
   ]
  },
  {
   "cell_type": "code",
   "execution_count": null,
   "metadata": {},
   "outputs": [],
   "source": [
    "query_string = '''\n",
    "MATCH (n) RETURN count(n)\n",
    "'''\n",
    "\n",
    "conn.query(query_string, db='stock')"
   ]
  },
  {
   "cell_type": "code",
   "execution_count": null,
   "metadata": {},
   "outputs": [],
   "source": [
    "\n",
    "query_string = '''\n",
    "LOAD CSV WITH HEADERS FROM 'file:///indiavix_v2.csv' AS row\n",
    "CREATE (ivn:IndiaVIXNode {Symbol: row.Symbol})\n",
    "\n",
    "'''\n",
    "# started at 11 40\n",
    "conn.query(query_string, db='stock')"
   ]
  },
  {
   "cell_type": "code",
   "execution_count": null,
   "metadata": {},
   "outputs": [],
   "source": []
  },
  {
   "cell_type": "code",
   "execution_count": null,
   "metadata": {},
   "outputs": [],
   "source": [
    "## indiavix\n",
    "\n",
    "\n",
    "query_string = '''\n",
    "LOAD CSV WITH HEADERS FROM 'file:///indiavix_v2.csv' AS row\n",
    "CREATE (i:IndiaVIX {Symbol: row.Symbol,Open: row.Open, High: row.High, Low:row.Low,Close:row.Close,Prev_Close:row.Prev_Close,Change:row.Change, Per_Change:row.Per_Change})\n",
    "MERGE (d:Date {Date: row.Date})\n",
    "\n",
    "MERGE (ivn)-[:Stock]->(i)\n",
    "MERGE (i)-[:Stock]->(ivn)\n",
    "MERGE (i)-[:HAS_DATE]->(d)\n",
    "MERGE (d)-[:HAS_DATE]->(i)\n",
    "'''\n",
    "# started at 11 40\n",
    "conn.query(query_string, db='stock')"
   ]
  },
  {
   "cell_type": "code",
   "execution_count": null,
   "metadata": {},
   "outputs": [],
   "source": [
    "query_string = '''\n",
    "MATCH (n) RETURN count(n)\n",
    "'''\n",
    "\n",
    "conn.query(query_string, db='stock')"
   ]
  },
  {
   "cell_type": "code",
   "execution_count": null,
   "metadata": {},
   "outputs": [],
   "source": [
    "## nifty50index_v2\n",
    "\n",
    "\n",
    "query_string = '''\n",
    "LOAD CSV WITH HEADERS FROM 'file:///nifty50index_v2.csv' AS row\n",
    "CREATE (nfi:Nifty50Index {Symbol: row.Symbol})\n",
    "\n",
    "'''\n",
    "# started at 11 40\n",
    "conn.query(query_string, db='stock')"
   ]
  },
  {
   "cell_type": "code",
   "execution_count": null,
   "metadata": {},
   "outputs": [],
   "source": []
  },
  {
   "cell_type": "code",
   "execution_count": null,
   "metadata": {},
   "outputs": [],
   "source": [
    "## nifty50index_v2\n",
    "\n",
    "\n",
    "query_string = '''\n",
    "LOAD CSV WITH HEADERS FROM 'file:///nifty50index_v2.csv' AS row\n",
    "CREATE (n:Nifty50Index {Symbol: row.Symbol,Open: row.Open, High: row.High, Low:row.Low,Close:row.Close,Shares_Traded:row.Shares_Traded,Turnover_Rs_Cr:row.Turnover_Rs_Cr})\n",
    "MERGE (d:Date {Date: row.Date})\n",
    "\n",
    "MERGE (nfi)-[:Stock]->(n)\n",
    "MERGE (n)-[:Stock]->(nfi)\n",
    "MERGE (n)-[:HAS_DATE]->(d)\n",
    "MERGE (d)-[:HAS_DATE]->(n)\n",
    "'''\n",
    "# started at 11 40\n",
    "conn.query(query_string, db='stock')"
   ]
  },
  {
   "cell_type": "code",
   "execution_count": null,
   "metadata": {},
   "outputs": [],
   "source": [
    "query_string = '''\n",
    "MATCH (n) RETURN count(n)\n",
    "'''\n",
    "\n",
    "conn.query(query_string, db='stock')"
   ]
  },
  {
   "cell_type": "code",
   "execution_count": null,
   "metadata": {},
   "outputs": [],
   "source": [
    "## Nifty50PEPBDivYield_v2\n",
    "\n",
    "\n",
    "query_string = '''\n",
    "LOAD CSV WITH HEADERS FROM 'file:///Nifty50PEPBDivYield_v2.csv' AS row\n",
    "CREATE (nidy:Nifty50PEPBDivYield {Symbol: row.Symbol})\n",
    "\n",
    "\n",
    "'''\n",
    "# started at 11 40\n",
    "conn.query(query_string, db='stock')\n"
   ]
  },
  {
   "cell_type": "code",
   "execution_count": null,
   "metadata": {},
   "outputs": [],
   "source": []
  },
  {
   "cell_type": "code",
   "execution_count": null,
   "metadata": {},
   "outputs": [],
   "source": [
    "## Nifty50PEPBDivYield_v2\n",
    "\n",
    "\n",
    "query_string = '''\n",
    "LOAD CSV WITH HEADERS FROM 'file:///Nifty50PEPBDivYield_v2.csv' AS row\n",
    "CREATE (ni:Nifty50PEPBDivYield {Symbol: row.Symbol,Price_to_Earnings: row.Price_to_Earnings, Price_to_Book: row.Price_to_Book, Div_Yield:row.Div_Yield})\n",
    "MERGE (d:Date {Date: row.Date})\n",
    "\n",
    "MERGE (nidy)-[:Stock]->(ni)\n",
    "MERGE (ni)-[:Stock]->(nidy)\n",
    "MERGE (ni)-[:HAS_DATE]->(d)\n",
    "MERGE (d)-[:HAS_DATE]->(ni)\n",
    "'''\n",
    "# started at 11 40\n",
    "conn.query(query_string, db='stock')\n"
   ]
  },
  {
   "cell_type": "code",
   "execution_count": null,
   "metadata": {},
   "outputs": [],
   "source": [
    "\n",
    "query_string = '''\n",
    "MATCH (n) RETURN count(n)\n",
    "'''\n",
    "\n",
    "conn.query(query_string, db='stock')"
   ]
  },
  {
   "cell_type": "code",
   "execution_count": null,
   "metadata": {},
   "outputs": [],
   "source": [
    "## Nifty50TR_v2\n",
    "\n",
    "\n",
    "query_string = '''\n",
    "LOAD CSV WITH HEADERS FROM 'file:///Nifty50TR_v2.csv' AS row\n",
    "CREATE (nftr:Nifty50TR {Symbol: row.Symbol})\n",
    "\n",
    "\n",
    "'''\n",
    "# started at 11 40\n",
    "conn.query(query_string, db='stock')\n"
   ]
  },
  {
   "cell_type": "code",
   "execution_count": null,
   "metadata": {},
   "outputs": [],
   "source": [
    "## Nifty50TR_v2\n",
    "\n",
    "\n",
    "query_string = '''\n",
    "LOAD CSV WITH HEADERS FROM 'file:///Nifty50TR_v2.csv' AS row\n",
    "CREATE (ntr:Nifty50TR {Symbol: row.Symbol,Total_Returns_Index: row.Total_Returns_Index})\n",
    "MERGE (d:Date {Date: row.Date})\n",
    "\n",
    "MERGE(nftr)-[:Stock]->(ntr)\n",
    "MERGE(ntr)-[:Stock]->(nftr)\n",
    "MERGE (ntr)-[:HAS_DATE]->(d)\n",
    "MERGE (d)-[:HAS_DATE]->(ntr)\n",
    "'''\n",
    "# started at 11 40\n",
    "conn.query(query_string, db='stock')\n"
   ]
  },
  {
   "cell_type": "code",
   "execution_count": null,
   "metadata": {},
   "outputs": [],
   "source": [
    "\n",
    "query_string = '''\n",
    "MATCH (n) RETURN count(n)\n",
    "'''\n",
    "\n",
    "conn.query(query_string, db='stock')"
   ]
  },
  {
   "cell_type": "code",
   "execution_count": null,
   "metadata": {},
   "outputs": [],
   "source": [
    "## FUTBLN-GOLD\n",
    "\n",
    "\n",
    "query_string = '''\n",
    "LOAD CSV WITH HEADERS FROM 'file:///FUTBLN-GOLD.csv' AS row\n",
    "CREATE (cf:CommodityFuture {Symbol: row.Symbol,Instrument: row.Instrument, Expiry_Date:row.Expiry_Date, Open_Price:row.Open_Price, High_Price:row.High_Price, Low_Price:row.Low_Price, Close_Price:row.Close_Price,Daily_Settlement_Price:row.Daily_Settlement_Price, Open_Interest:row.Open_Interest,No_of_Contracts:row.No_of_Contracts,Turnover:row.Turnover})\n",
    "MERGE (d:Date {Date: row.Date})\n",
    "\n",
    "MERGE (cf)-[:HAS_DATE]->(d)\n",
    "MERGE (d)-[:HAS_DATE]->(cf)\n",
    "'''\n",
    "# started at 11 40\n",
    "conn.query(query_string, db='stock')\n"
   ]
  },
  {
   "cell_type": "code",
   "execution_count": null,
   "metadata": {},
   "outputs": [],
   "source": [
    "\n",
    "query_string = '''\n",
    "MATCH (n) RETURN count(n)\n",
    "'''\n",
    "\n",
    "conn.query(query_string, db='stock')"
   ]
  },
  {
   "cell_type": "code",
   "execution_count": null,
   "metadata": {},
   "outputs": [],
   "source": [
    "## FUTBLN-GOLDM\n",
    "\n",
    "\n",
    "query_string = '''\n",
    "LOAD CSV WITH HEADERS FROM 'file:///FUTBLN-GOLDM.csv' AS row\n",
    "CREATE (cf:CommodityFuture {Symbol: row.Symbol,Instrument: row.Instrument, Expiry_Date:row.Expiry_Date, Open_Price:row.Open_Price, High_Price:row.High_Price, Low_Price:row.Low_Price, Close_Price:row.Close_Price,Daily_Settlement_Price:row.Daily_Settlement_Price, Open_Interest:row.Open_Interest,No_of_Contracts:row.No_of_Contracts,Turnover:row.Turnover})\n",
    "MERGE (d:Date {Date: row.Date})\n",
    "\n",
    "MERGE (cf)-[:HAS_DATE]->(d)\n",
    "MERGE (d)-[:HAS_DATE]->(cf)\n",
    "'''\n",
    "# started at 11 40\n",
    "conn.query(query_string, db='stock')\n",
    "\n"
   ]
  },
  {
   "cell_type": "code",
   "execution_count": null,
   "metadata": {},
   "outputs": [],
   "source": [
    "\n",
    "query_string = '''\n",
    "MATCH (n) RETURN count(n)\n",
    "'''\n",
    "\n",
    "conn.query(query_string, db='stock')"
   ]
  },
  {
   "cell_type": "code",
   "execution_count": null,
   "metadata": {},
   "outputs": [],
   "source": [
    "## FUTBLN-SILVER\n",
    "\n",
    "\n",
    "query_string = '''\n",
    "LOAD CSV WITH HEADERS FROM 'file:///FUTBLN-SILVER.csv' AS row\n",
    "CREATE (cf:CommodityFuture {Symbol: row.Symbol,Instrument: row.Instrument, Expiry_Date:row.Expiry_Date, Open_Price:row.Open_Price, High_Price:row.High_Price, Low_Price:row.Low_Price, Close_Price:row.Close_Price,Daily_Settlement_Price:row.Daily_Settlement_Price, Open_Interest:row.Open_Interest,No_of_Contracts:row.No_of_Contracts,Turnover:row.Turnover})\n",
    "MERGE (d:Date {Date: row.Date})\n",
    "\n",
    "MERGE (cf)-[:HAS_DATE]->(d)\n",
    "MERGE (d)-[:HAS_DATE]->(cf)\n",
    "'''\n",
    "# started at 11 40\n",
    "conn.query(query_string, db='stock')\n"
   ]
  },
  {
   "cell_type": "code",
   "execution_count": null,
   "metadata": {},
   "outputs": [],
   "source": [
    "\n",
    "query_string = '''\n",
    "MATCH (n) RETURN count(n)\n",
    "'''\n",
    "\n",
    "conn.query(query_string, db='stock')"
   ]
  },
  {
   "cell_type": "code",
   "execution_count": null,
   "metadata": {},
   "outputs": [],
   "source": [
    "## FUTENR-CRUDE\n",
    "\n",
    "\n",
    "query_string = '''\n",
    "LOAD CSV WITH HEADERS FROM 'file:///FUTENR-CRUDE.csv' AS row\n",
    "CREATE (cf:CommodityFuture {Symbol: row.Symbol,Instrument: row.Instrument, Expiry_Date:row.Expiry_Date, Open_Price:row.Open_Price, High_Price:row.High_Price, Low_Price:row.Low_Price, Close_Price:row.Close_Price,Daily_Settlement_Price:row.Daily_Settlement_Price, Open_Interest:row.Open_Interest,No_of_Contracts:row.No_of_Contracts,Turnover:row.Turnover})\n",
    "MERGE (d:Date {Date: row.Date})\n",
    "\n",
    "MERGE (cf)-[:HAS_DATE]->(d)\n",
    "MERGE (d)-[:HAS_DATE]->(cf)\n",
    "'''\n",
    "# started at 11 40\n",
    "conn.query(query_string, db='stock')\n"
   ]
  },
  {
   "cell_type": "code",
   "execution_count": null,
   "metadata": {},
   "outputs": [],
   "source": [
    "\n",
    "query_string = '''\n",
    "MATCH (n) RETURN count(n)\n",
    "'''\n",
    "\n",
    "conn.query(query_string, db='stock')"
   ]
  },
  {
   "cell_type": "code",
   "execution_count": null,
   "metadata": {},
   "outputs": [],
   "source": [
    "## FUTENR-CRUDEM\n",
    "\n",
    "\n",
    "query_string = '''\n",
    "LOAD CSV WITH HEADERS FROM 'file:///FUTENR-CRUDEM.csv' AS row\n",
    "CREATE (cf:CommodityFuture {Symbol: row.Symbol,Instrument: row.Instrument, Expiry_Date:row.Expiry_Date, Open_Price:row.Open_Price, High_Price:row.High_Price, Low_Price:row.Low_Price, Close_Price:row.Close_Price,Daily_Settlement_Price:row.Daily_Settlement_Price, Open_Interest:row.Open_Interest,No_of_Contracts:row.No_of_Contracts,Turnover:row.Turnover})\n",
    "MERGE (d:Date {Date: row.Date})\n",
    "\n",
    "MERGE (cf)-[:HAS_DATE]->(d)\n",
    "MERGE (d)-[:HAS_DATE]->(cf)\n",
    "'''\n",
    "# started at 11 40\n",
    "conn.query(query_string, db='stock')\n"
   ]
  },
  {
   "cell_type": "code",
   "execution_count": null,
   "metadata": {},
   "outputs": [],
   "source": [
    "\n",
    "query_string = '''\n",
    "MATCH (n) RETURN count(n)\n",
    "'''\n",
    "\n",
    "conn.query(query_string, db='stock')"
   ]
  },
  {
   "cell_type": "code",
   "execution_count": null,
   "metadata": {},
   "outputs": [],
   "source": []
  },
  {
   "cell_type": "code",
   "execution_count": null,
   "metadata": {},
   "outputs": [],
   "source": [
    "## PreprocessNifty50Ftures\n",
    "\n",
    "\n",
    "query_string = '''\n",
    "LOAD CSV WITH HEADERS FROM 'file:///PreprocessNifty50Ftures.csv' AS row\n",
    "CREATE (f:Future {Price: row.Price,Open: row.Open, High:row.High, Low:row.Low, Volume:row.Volume, ChgPct:row.ChgPct, fDate:row.fDate,fVolume:row.fVolume})\n",
    "MERGE (d:Date {Date: row.Date})\n",
    "\n",
    "MERGE (f)-[:HAS_DATE]->(d)\n",
    "MERGE (d)-[:HAS_DATE]->(f)\n",
    "'''\n",
    "# started at 11 40\n",
    "conn.query(query_string, db='stock')\n",
    "\n"
   ]
  },
  {
   "cell_type": "code",
   "execution_count": null,
   "metadata": {},
   "outputs": [],
   "source": [
    "\n",
    "query_string = '''\n",
    "MATCH (n) RETURN count(n)\n",
    "'''\n",
    "\n",
    "conn.query(query_string, db='stock')"
   ]
  },
  {
   "cell_type": "code",
   "execution_count": null,
   "metadata": {},
   "outputs": [],
   "source": [
    "## BankNiftyFutures\n",
    "\n",
    "\n",
    "query_string = '''\n",
    "LOAD CSV WITH HEADERS FROM 'file:///BankNiftyFutures.csv' AS row\n",
    "CREATE (f:Future {Price: row.Price,Open: row.Open, High:row.High, Low:row.Low, Volume:row.Volume, ChgPct:row.ChgPct})\n",
    "MERGE (d:Date {Date: row.Date})\n",
    "\n",
    "MERGE (f)-[:HAS_DATE]->(d)\n",
    "MERGE (d)-[:HAS_DATE]->(f)\n",
    "'''\n",
    "# started at 11 40\n",
    "conn.query(query_string, db='stock')\n"
   ]
  },
  {
   "cell_type": "code",
   "execution_count": null,
   "metadata": {},
   "outputs": [],
   "source": [
    "\n",
    "query_string = '''\n",
    "MATCH (n) RETURN count(n)\n",
    "'''\n",
    "\n",
    "conn.query(query_string, db='stock')"
   ]
  },
  {
   "cell_type": "code",
   "execution_count": null,
   "metadata": {},
   "outputs": [],
   "source": [
    "## IndiaVIX (outer version :: Need to check the mixed up fields)\n",
    "\n",
    "\n",
    "# query_string = '''\n",
    "# LOAD CSV WITH HEADERS FROM 'file:///BankNiftyFutures.csv' AS row\n",
    "# CREATE (f:Future {Price: row.Price,Open: row.Open, High:row.High, Low:row.Low, Volume:row.Volume, ChgPct:row.ChgPct})\n",
    "# MERGE (d:Date {Date: row.Date})\n",
    "\n",
    "# MERGE (f)<-[:HAS_DATE]->(d)\n",
    "# '''\n",
    "# # started at 11 40\n",
    "# conn.query(query_string, db='stock')\n"
   ]
  },
  {
   "cell_type": "code",
   "execution_count": null,
   "metadata": {},
   "outputs": [],
   "source": []
  },
  {
   "cell_type": "code",
   "execution_count": null,
   "metadata": {},
   "outputs": [],
   "source": []
  },
  {
   "cell_type": "code",
   "execution_count": null,
   "metadata": {},
   "outputs": [],
   "source": []
  },
  {
   "cell_type": "code",
   "execution_count": null,
   "metadata": {},
   "outputs": [],
   "source": []
  },
  {
   "cell_type": "code",
   "execution_count": null,
   "metadata": {},
   "outputs": [],
   "source": []
  },
  {
   "cell_type": "code",
   "execution_count": null,
   "metadata": {},
   "outputs": [],
   "source": []
  },
  {
   "cell_type": "code",
   "execution_count": null,
   "metadata": {},
   "outputs": [],
   "source": []
  },
  {
   "cell_type": "code",
   "execution_count": null,
   "metadata": {},
   "outputs": [],
   "source": []
  }
 ],
 "metadata": {
  "kernelspec": {
   "display_name": "Python 3",
   "language": "python",
   "name": "python3"
  },
  "language_info": {
   "codemirror_mode": {
    "name": "ipython",
    "version": 3
   },
   "file_extension": ".py",
   "mimetype": "text/x-python",
   "name": "python",
   "nbconvert_exporter": "python",
   "pygments_lexer": "ipython3",
   "version": "3.8.5"
  }
 },
 "nbformat": 4,
 "nbformat_minor": 4
}
