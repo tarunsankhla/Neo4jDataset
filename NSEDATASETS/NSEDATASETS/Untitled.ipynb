{
 "cells": [
  {
   "cell_type": "code",
   "execution_count": null,
   "metadata": {},
   "outputs": [],
   "source": [
    "import pandas as pd\n",
    "import numpy as np\n",
    "import glob"
   ]
  },
  {
   "cell_type": "code",
   "execution_count": null,
   "metadata": {},
   "outputs": [],
   "source": [
    "### NSEFUTURES CSV"
   ]
  },
  {
   "cell_type": "code",
   "execution_count": null,
   "metadata": {},
   "outputs": [],
   "source": [
    "path = r'NSEFUTURES/NiftyStocksFutures/' # use your path\n",
    "all_files = glob.glob(path + \"*/*.csv\")\n",
    "\n",
    "li = []\n",
    "count = 1\n",
    "\n",
    "for filename in all_files:\n",
    "    df = pd.read_csv(filename, index_col=None, header=0)\n",
    "    li.append(df)\n",
    "\n",
    "frame = pd.concat(li, axis=0, ignore_index=True)"
   ]
  },
  {
   "cell_type": "code",
   "execution_count": null,
   "metadata": {},
   "outputs": [],
   "source": [
    "frame = frame.fillna(value=np.nan)"
   ]
  },
  {
   "cell_type": "code",
   "execution_count": null,
   "metadata": {},
   "outputs": [],
   "source": [
    "frame = frame.fillna(-1)"
   ]
  },
  {
   "cell_type": "code",
   "execution_count": null,
   "metadata": {},
   "outputs": [],
   "source": [
    "list(frame)"
   ]
  },
  {
   "cell_type": "code",
   "execution_count": null,
   "metadata": {},
   "outputs": [],
   "source": [
    "count = 1\n",
    "ls = []\n",
    "for i in frame['Symbol'].unique():\n",
    "    mf = frame.loc[frame['Symbol'] == i]\n",
    "    mf['stockKey'] = count\n",
    "    count = count + 1\n",
    "    ls.append(mf)\n",
    "    \n",
    "frame = pd.concat(ls, axis=0, ignore_index=True)"
   ]
  },
  {
   "cell_type": "code",
   "execution_count": null,
   "metadata": {},
   "outputs": [],
   "source": [
    "frame"
   ]
  },
  {
   "cell_type": "code",
   "execution_count": null,
   "metadata": {},
   "outputs": [],
   "source": [
    "frame.rename(columns = {'Open':'Open_Price', 'High':'High_Price', \n",
    "                              'Low':'Low_Price', 'Close':'Close_Price', 'LTP':'Last_Price', 'No. of Trades':'No_of_Trades','Deliverable Qty':'Deliverable_Qty','%Dly Qt to Traded Qty':'%Dly_Qt_to_Traded_Qty', 'Settle Price':'Settle_Price', 'No. of contracts': 'No_of_Contracts','Turnover in Lacs':'Turnover_in_Lacs','Open Int':'Open_Int','Change in OI':'Change_in_OI','Underlying Value ':'Underlying_Value'}, inplace = True) "
   ]
  },
  {
   "cell_type": "code",
   "execution_count": null,
   "metadata": {},
   "outputs": [],
   "source": [
    "frame['Date']\n",
    "\n",
    "frame['Date'] = pd.to_datetime(frame.Date)"
   ]
  },
  {
   "cell_type": "code",
   "execution_count": null,
   "metadata": {},
   "outputs": [],
   "source": [
    "frame['Date'] = frame['Date'].dt.strftime('%Y-%m-%d')"
   ]
  },
  {
   "cell_type": "code",
   "execution_count": null,
   "metadata": {},
   "outputs": [],
   "source": [
    "frame['Date']"
   ]
  },
  {
   "cell_type": "code",
   "execution_count": null,
   "metadata": {},
   "outputs": [],
   "source": []
  },
  {
   "cell_type": "code",
   "execution_count": null,
   "metadata": {},
   "outputs": [],
   "source": [
    "for i in range(0, len(frame), 20000):\n",
    "    col1 = frame[i:i+20000]\n",
    "#     col1 = col1.to_frame()\n",
    "    col1.to_csv(r\"NiftyStocksFutures_col_\"+str(i)+\".csv\")"
   ]
  },
  {
   "cell_type": "code",
   "execution_count": null,
   "metadata": {},
   "outputs": [],
   "source": [
    "frame.to_csv(\"nsefutures_v2.csv\")"
   ]
  },
  {
   "cell_type": "code",
   "execution_count": null,
   "metadata": {},
   "outputs": [],
   "source": [
    "# NSESECURITIES CSV"
   ]
  },
  {
   "cell_type": "code",
   "execution_count": null,
   "metadata": {},
   "outputs": [],
   "source": [
    "path = r'NSESECURITIES/' # use your path\n",
    "all_files = glob.glob(path + \"*/*.csv\")\n",
    "\n",
    "li = []\n",
    "\n",
    "for filename in all_files:\n",
    "    df = pd.read_csv(filename, index_col=None, header=0)\n",
    "    li.append(df)\n",
    "\n",
    "frame = pd.concat(li, axis=0, ignore_index=True)"
   ]
  },
  {
   "cell_type": "code",
   "execution_count": null,
   "metadata": {},
   "outputs": [],
   "source": [
    "frame = frame.fillna(value=np.nan)"
   ]
  },
  {
   "cell_type": "code",
   "execution_count": null,
   "metadata": {},
   "outputs": [],
   "source": [
    "frame = frame.fillna(-1)"
   ]
  },
  {
   "cell_type": "code",
   "execution_count": null,
   "metadata": {},
   "outputs": [],
   "source": [
    "frame.shape"
   ]
  },
  {
   "cell_type": "code",
   "execution_count": null,
   "metadata": {},
   "outputs": [],
   "source": [
    "count = 1\n",
    "ls = []\n",
    "for i in frame['Symbol'].unique():\n",
    "    mf = frame.loc[frame['Symbol'] == i]\n",
    "    mf['stockKey'] = count\n",
    "    count = count + 1\n",
    "    ls.append(mf)\n",
    "    \n",
    "frame = pd.concat(ls, axis=0, ignore_index=True)"
   ]
  },
  {
   "cell_type": "code",
   "execution_count": null,
   "metadata": {},
   "outputs": [],
   "source": [
    "frame.rename(columns = {'Open Price':'Open_Price', 'High Price':'High_Price', \n",
    "                              'Low Price':'Low_Price', 'Close Price':'Close_Price', 'Last Price':'Last_Price', 'Prev Close':'Prev_Close', 'Average Price':'Average_Price', 'Total Traded Quantity':'Total_Traded_Quantity','No. of Trades':'No_Of_Trades','Deliverable Qty':'Deliverable_Qty','% Dly Qt to Traded Qty':'%Dly_Qt_to_Traded_Qty'}, inplace=True)"
   ]
  },
  {
   "cell_type": "code",
   "execution_count": null,
   "metadata": {},
   "outputs": [],
   "source": [
    "frame['Date']\n",
    "\n",
    "frame['Date'] = pd.to_datetime(frame.Date)"
   ]
  },
  {
   "cell_type": "code",
   "execution_count": null,
   "metadata": {},
   "outputs": [],
   "source": [
    "frame['Date'] = frame['Date'].dt.strftime('%Y-%m-%d')"
   ]
  },
  {
   "cell_type": "code",
   "execution_count": null,
   "metadata": {},
   "outputs": [],
   "source": [
    "frame.columns"
   ]
  },
  {
   "cell_type": "code",
   "execution_count": null,
   "metadata": {},
   "outputs": [],
   "source": [
    "for i in range(0, len(frame), 20000):\n",
    "    col1 = frame[i:i+20000]\n",
    "#     col1 = col1.to_frame()\n",
    "    col1.to_csv(r\"nsesec_col_\"+str(i)+\".csv\")"
   ]
  },
  {
   "cell_type": "code",
   "execution_count": null,
   "metadata": {},
   "outputs": [],
   "source": [
    "frame.to_csv(\"nsesecurities_v2.csv\")"
   ]
  },
  {
   "cell_type": "code",
   "execution_count": null,
   "metadata": {
    "scrolled": true
   },
   "outputs": [],
   "source": [
    "list(frame)"
   ]
  },
  {
   "cell_type": "code",
   "execution_count": null,
   "metadata": {},
   "outputs": [],
   "source": []
  },
  {
   "cell_type": "code",
   "execution_count": 1,
   "metadata": {},
   "outputs": [],
   "source": [
    "import pandas as pd\n",
    "import numpy as np\n",
    "from py2neo import Graph\n",
    "from neo4j import GraphDatabase"
   ]
  },
  {
   "cell_type": "code",
   "execution_count": 2,
   "metadata": {},
   "outputs": [],
   "source": [
    "# df = pd.read_parquet('product_master_05062020230002.parquet/product_master_05062020230002.parquet', engine='pyarrow')\n"
   ]
  },
  {
   "cell_type": "code",
   "execution_count": 3,
   "metadata": {},
   "outputs": [
    {
     "name": "stdout",
     "output_type": "stream",
     "text": [
      "4.1.1\n"
     ]
    }
   ],
   "source": [
    "from neo4j import __version__ as neo4j_version\n",
    "print(neo4j_version)"
   ]
  },
  {
   "cell_type": "code",
   "execution_count": 4,
   "metadata": {},
   "outputs": [],
   "source": [
    "from neo4j import GraphDatabase\n",
    "\n",
    "class Neo4jConnection:\n",
    "    \n",
    "    def __init__(self, uri, user, pwd):\n",
    "        self.__uri = uri\n",
    "        self.__user = user\n",
    "        self.__pwd = pwd\n",
    "        self.__driver = None\n",
    "        try:\n",
    "            self.__driver = GraphDatabase.driver(self.__uri, auth=(self.__user, self.__pwd))\n",
    "        except Exception as e:\n",
    "            print(\"Failed to create the driver:\", e)\n",
    "        \n",
    "    def close(self):\n",
    "        if self.__driver is not None:\n",
    "            self.__driver.close()\n",
    "        \n",
    "    def query(self, query, db=None):\n",
    "        assert self.__driver is not None, \"Driver not initialized!\"\n",
    "        session = None\n",
    "        response = None\n",
    "        try: \n",
    "            session = self.__driver.session(database=db) if db is not None else self.__driver.session() \n",
    "            response = list(session.run(query))\n",
    "        except Exception as e:\n",
    "            print(\"Query failed:\", e)\n",
    "        finally: \n",
    "            if session is not None:\n",
    "                session.close()\n",
    "        return response"
   ]
  },
  {
   "cell_type": "code",
   "execution_count": 5,
   "metadata": {},
   "outputs": [],
   "source": [
    "conn = Neo4jConnection(uri=\"bolt://localhost:7687\", user=\"karan\", pwd=\"root\")"
   ]
  },
  {
   "cell_type": "code",
   "execution_count": 6,
   "metadata": {},
   "outputs": [],
   "source": [
    "#list(frame)"
   ]
  },
  {
   "cell_type": "code",
   "execution_count": 7,
   "metadata": {},
   "outputs": [
    {
     "data": {
      "text/plain": [
       "[]"
      ]
     },
     "execution_count": 7,
     "metadata": {},
     "output_type": "execute_result"
    }
   ],
   "source": [
    "conn.query(\"CREATE OR REPLACE DATABASE stock\")"
   ]
  },
  {
   "cell_type": "code",
   "execution_count": 8,
   "metadata": {},
   "outputs": [],
   "source": [
    "# ### lOAD DATE NODES\n",
    "\n",
    "# query_string = '''\n",
    "# LOAD CSV WITH HEADERS FROM 'file:///nsesec_col_20000.csv' AS row\n",
    "# MERGE (s:Stock { Symbol: row.Symbol, Series: row.Series, Prev_Close: row.Prev_Close, Open_Price: row.Open_Price, High_Price: row.High_Price, Low_Price:row.Low_Price,Last_Price:row.Last_Price,Close_Price:row.Close_Price,Average_Price:row.Average_Price,Total_Traded_Quantity:row.Total_Traded_Quantity })\n",
    "# MERGE (d:Date {Date: row.Date})\n",
    "\n",
    "# '''\n",
    "# # started at 10 05\n",
    "# conn.query(query_string, db='stock')"
   ]
  },
  {
   "cell_type": "code",
   "execution_count": 9,
   "metadata": {},
   "outputs": [
    {
     "data": {
      "text/plain": [
       "[]"
      ]
     },
     "execution_count": 9,
     "metadata": {},
     "output_type": "execute_result"
    }
   ],
   "source": [
    "### lOAD DATE NODES\n",
    "\n",
    "query_string = '''\n",
    "\n",
    "LOAD CSV WITH HEADERS FROM 'file:///date_1980_onwards.csv' AS line\n",
    "CREATE (a: Date { date: line.Date})\n",
    "\n",
    "'''\n",
    "# started at 10 05\n",
    "conn.query(query_string, db='stock')"
   ]
  },
  {
   "cell_type": "code",
   "execution_count": 10,
   "metadata": {},
   "outputs": [
    {
     "data": {
      "text/plain": [
       "[<Record count(n)=14884>]"
      ]
     },
     "execution_count": 10,
     "metadata": {},
     "output_type": "execute_result"
    }
   ],
   "source": [
    "query_string = '''\n",
    "MATCH (n) RETURN count(n)\n",
    "'''\n",
    "\n",
    "conn.query(query_string, db='stock')"
   ]
  },
  {
   "cell_type": "code",
   "execution_count": null,
   "metadata": {},
   "outputs": [],
   "source": []
  },
  {
   "cell_type": "code",
   "execution_count": 11,
   "metadata": {},
   "outputs": [
    {
     "data": {
      "text/plain": [
       "[]"
      ]
     },
     "execution_count": 11,
     "metadata": {},
     "output_type": "execute_result"
    }
   ],
   "source": [
    "### LOAD STOCK DATA AND POINT THEM TO THEIR RESPECTIVE DATES\n",
    "\n",
    "query_string = '''\n",
    "LOAD CSV WITH HEADERS FROM 'file:///nsesecurities_v2.csv' AS row\n",
    "CREATE (s:Stock { Symbol: row.Symbol, Series: row.Series, Prev_Close: row.Prev_Close, Open_Price: row.Open_Price, High_Price: row.High_Price, Low_Price:row.Low_Price,Last_Price:row.Last_Price,Close_Price:row.Close_Price,Average_Price:row.Average_Price,Total_Traded_Quantity:row.Total_Traded_Quantity, stockKey:row.stockKey })\n",
    "MERGE (d:Date {Date: row.Date})\n",
    "\n",
    "MERGE (s)<-[:HAS_DATE]->(d)\n",
    "'''\n",
    "# started at 11 40\n",
    "conn.query(query_string, db='stock')"
   ]
  },
  {
   "cell_type": "code",
   "execution_count": 12,
   "metadata": {},
   "outputs": [
    {
     "data": {
      "text/plain": [
       "[<Record count(n)=311685>]"
      ]
     },
     "execution_count": 12,
     "metadata": {},
     "output_type": "execute_result"
    }
   ],
   "source": [
    "query_string = '''\n",
    "MATCH (n) RETURN count(n)\n",
    "'''\n",
    "\n",
    "conn.query(query_string, db='stock')"
   ]
  },
  {
   "cell_type": "code",
   "execution_count": 13,
   "metadata": {},
   "outputs": [
    {
     "data": {
      "text/plain": [
       "[]"
      ]
     },
     "execution_count": 13,
     "metadata": {},
     "output_type": "execute_result"
    }
   ],
   "source": [
    "\n",
    "query_string = '''\n",
    "LOAD CSV WITH HEADERS FROM 'file:///nsefutures_v2.csv' AS row\n",
    "CREATE (s:Stock { Symbol: row.Symbol,Date: row.Date, Expiry: row.Expiry, Open_Price:row.Open_Price,High_Price:row.High_Price, Low_Price:row.Low_Price, Close_Price:row.Close_Price, Last_Price:row.Last_Price,Settle_Price:row.Settle_Price,No_of_Contracts:row.No_of_Contracts,Turnover_in_Lacs:row.Turnover_in_Lacs, Open_Int:row.Open_Int,Change_in_OI:row.Change_in_OI,Underlying_Value:row.Underlying_Value,stockKey:row.stockKey})\n",
    "MERGE (d:Date {Date: row.Date})\n",
    "\n",
    "MERGE (s)<-[:HAS_DATE]->(d)\n",
    "'''\n",
    "# started at 11 40\n",
    "conn.query(query_string, db='stock')"
   ]
  },
  {
   "cell_type": "code",
   "execution_count": 14,
   "metadata": {},
   "outputs": [
    {
     "data": {
      "text/plain": [
       "[<Record count(n)=837042>]"
      ]
     },
     "execution_count": 14,
     "metadata": {},
     "output_type": "execute_result"
    }
   ],
   "source": [
    "query_string = '''\n",
    "MATCH (n) RETURN count(n)\n",
    "'''\n",
    "\n",
    "conn.query(query_string, db='stock')"
   ]
  },
  {
   "cell_type": "code",
   "execution_count": 15,
   "metadata": {},
   "outputs": [
    {
     "data": {
      "text/plain": [
       "[]"
      ]
     },
     "execution_count": 15,
     "metadata": {},
     "output_type": "execute_result"
    }
   ],
   "source": [
    "### LOAD COMPANY NODES AND POINT THEM TO THEIR RESPECTIVE STOCK NODES\n",
    "\n",
    "query_string = '''\n",
    "LOAD CSV WITH HEADERS FROM 'file:///Stock_cin_v2.csv' AS row\n",
    "CREATE (c:Company { Symbol: row.Symbol, Alternate_Name: row.Alternate_Name, CIN: row.CIN, Company_Name: row.Company_Name, Company_Status: row.Company_Status, RoC:row.RoC,Registration_Number:row.Registration_Number,Company_Category:row.Company_Category,Company_Sub_Category:row.Company_Sub_Category,Class_of_Company:row.Class_of_Company, Date_of_Incorporation:row.Date_of_Incorporation,Age_of_Company:row.Age_of_Company,Activity:row.Activity, Number_of_members:row.Number_of_members, Authorised_Capital:row.Authorised_Capital,Paid_up_Capital:row.Paid_up_Capital,Email:row.Email\n",
    " })\n",
    " \n",
    "\n",
    "\n",
    "\n",
    "'''\n",
    "# started at 10 05\n",
    "conn.query(query_string, db='stock')"
   ]
  },
  {
   "cell_type": "code",
   "execution_count": 16,
   "metadata": {},
   "outputs": [
    {
     "data": {
      "text/plain": [
       "[<Record count(n)=837095>]"
      ]
     },
     "execution_count": 16,
     "metadata": {},
     "output_type": "execute_result"
    }
   ],
   "source": [
    "query_string = '''\n",
    "MATCH (n) RETURN count(n)\n",
    "'''\n",
    "\n",
    "conn.query(query_string, db='stock')"
   ]
  },
  {
   "cell_type": "code",
   "execution_count": null,
   "metadata": {},
   "outputs": [],
   "source": []
  },
  {
   "cell_type": "code",
   "execution_count": 17,
   "metadata": {},
   "outputs": [
    {
     "data": {
      "text/plain": [
       "[]"
      ]
     },
     "execution_count": 17,
     "metadata": {},
     "output_type": "execute_result"
    }
   ],
   "source": [
    "### CREATE RELATIONSHIP BETWEEN COMPANY AND STOCK\n",
    "\n",
    "query_string = '''\n",
    "\n",
    "MATCH (c:Company),(s:Stock)\n",
    "WHERE c.Symbol = s.Symbol\n",
    "CREATE (c)-[:HAS_STOCK]->(s)\n",
    "\n",
    "'''\n",
    "# started at 10 05\n",
    "conn.query(query_string, db='stock')"
   ]
  },
  {
   "cell_type": "code",
   "execution_count": 18,
   "metadata": {},
   "outputs": [
    {
     "data": {
      "text/plain": [
       "[<Record count(n)=837095>]"
      ]
     },
     "execution_count": 18,
     "metadata": {},
     "output_type": "execute_result"
    }
   ],
   "source": [
    "query_string = '''\n",
    "MATCH (n) RETURN count(n)\n",
    "'''\n",
    "\n",
    "conn.query(query_string, db='stock')"
   ]
  },
  {
   "cell_type": "code",
   "execution_count": null,
   "metadata": {},
   "outputs": [],
   "source": []
  },
  {
   "cell_type": "code",
   "execution_count": 19,
   "metadata": {},
   "outputs": [
    {
     "data": {
      "text/plain": [
       "[]"
      ]
     },
     "execution_count": 19,
     "metadata": {},
     "output_type": "execute_result"
    }
   ],
   "source": [
    "### LOAD DIRECTOR DATA\n",
    "\n",
    "query_string = '''\n",
    "LOAD CSV WITH HEADERS FROM 'file:///Directors_v2.csv' AS row\n",
    "CREATE (d:Director { Symbol: row.Symbol, DIN: row.DIN, Director_Name: row.Director_Name, Designation: row.Designation, Appointment_Date:row.Appointment_Date})\n",
    " \n",
    "'''\n",
    "# started at 10 05\n",
    "conn.query(query_string, db='stock')"
   ]
  },
  {
   "cell_type": "code",
   "execution_count": 20,
   "metadata": {},
   "outputs": [
    {
     "data": {
      "text/plain": [
       "[<Record count(n)=837525>]"
      ]
     },
     "execution_count": 20,
     "metadata": {},
     "output_type": "execute_result"
    }
   ],
   "source": [
    "query_string = '''\n",
    "MATCH (n) RETURN count(n)\n",
    "'''\n",
    "\n",
    "conn.query(query_string, db='stock')"
   ]
  },
  {
   "cell_type": "code",
   "execution_count": null,
   "metadata": {},
   "outputs": [],
   "source": []
  },
  {
   "cell_type": "code",
   "execution_count": 21,
   "metadata": {},
   "outputs": [
    {
     "data": {
      "text/plain": [
       "[]"
      ]
     },
     "execution_count": 21,
     "metadata": {},
     "output_type": "execute_result"
    }
   ],
   "source": [
    "### CONNECT DIRECTORS TO COMPANIES\n",
    "\n",
    "query_string = '''\n",
    "\n",
    "MATCH (d:Director),(c:Company)\n",
    "WHERE d.Symbol = c.Symbol\n",
    "CREATE (d)-[:DIRECTOR_AT]->(c)\n",
    "\n",
    "\n",
    "'''\n",
    "# started at 10 05\n",
    "conn.query(query_string, db='stock')"
   ]
  },
  {
   "cell_type": "code",
   "execution_count": 22,
   "metadata": {},
   "outputs": [
    {
     "data": {
      "text/plain": [
       "[<Record count(n)=837525>]"
      ]
     },
     "execution_count": 22,
     "metadata": {},
     "output_type": "execute_result"
    }
   ],
   "source": [
    "query_string = '''\n",
    "MATCH (n) RETURN count(n)\n",
    "'''\n",
    "\n",
    "conn.query(query_string, db='stock')"
   ]
  },
  {
   "cell_type": "code",
   "execution_count": null,
   "metadata": {},
   "outputs": [],
   "source": []
  },
  {
   "cell_type": "code",
   "execution_count": null,
   "metadata": {},
   "outputs": [],
   "source": [
    "####################################################################################################################################"
   ]
  },
  {
   "cell_type": "code",
   "execution_count": null,
   "metadata": {},
   "outputs": [],
   "source": [
    "query_string = '''\n",
    "USING PERIODIC COMMIT 10000\n",
    "LOAD CSV FROM 'file:///nsesec_col_120000.csv' AS line\n",
    "MERGE(a: Symbol { Symbol: line[1]})\n",
    "MERGE (b: Series {Series: line[2]})\n",
    "MERGE(c: Date { Date: line[3]})\n",
    "MERGE(d: Prev_Close { Prev_Close: line[4]})\n",
    "MERGE(e: Open { Open: line[5]})\n",
    "MERGE(f: High { High: line[6]})\n",
    "MERGE(g: Low { Low: line[7]})\n",
    "MERGE(h: LTP { LTP: line[8]})\n",
    "MERGE(i: Close { Close: line[9]})\n",
    "MERGE(j: Average_Price {Average_Price: line[10]})\n",
    "MERGE(k: Total_Traded_Quantity {Total_Traded_Quantity : line[11]})\n",
    "MERGE(l: Turnover {Turnover : line[12]})\n",
    "MERGE(m: No_of_Trades {No_Of_Trades: line[13]})\n",
    "MERGE(n: Deliverable_Qty {Deliverable_Qty: line[14]})\n",
    "MERGE(o: Deliverable_Qty_To_Traded_Qty {Deliverable_Qty_To_Traded_Qty: line[15]})\n",
    "//Relationships::\n",
    "\n",
    "\n",
    "MERGE (a)-[:Series]->(b)\n",
    "MERGE (a)-[:Date]->(c)\n",
    "MERGE (a)-[:Prev_Close]->(d)\n",
    "MERGE (a)-[:Open]->(e)\n",
    "MERGE (a)-[:High]->(f)\n",
    "MERGE (a)-[:Low]->(g)\n",
    "MERGE (a)-[:LTP]->(h)\n",
    "MERGE (a)-[:Close]->(i)\n",
    "MERGE (a)-[:Average_Price]->(j)\n",
    "MERGE (a)-[:Total_Traded_Quantity]->(k)\n",
    "MERGE (a)-[:Turnover]->(l)\n",
    "MERGE (a)-[:No_of_Trades]->(m)\n",
    "MERGE (a)-[:Deliverable_Qty]->(n)\n",
    "MERGE (a)-[:Deliverable_Qty_To_Traded_Qty]->(o)\n",
    "\n",
    "'''\n",
    "# started at 10 05\n",
    "conn.query(query_string, db='testpm')"
   ]
  },
  {
   "cell_type": "code",
   "execution_count": null,
   "metadata": {},
   "outputs": [],
   "source": [
    "query_string = '''\n",
    "MATCH (n) RETURN count(n)\n",
    "'''\n",
    "\n",
    "conn.query(query_string, db='testpm')"
   ]
  },
  {
   "cell_type": "code",
   "execution_count": null,
   "metadata": {},
   "outputs": [],
   "source": []
  },
  {
   "cell_type": "code",
   "execution_count": null,
   "metadata": {},
   "outputs": [],
   "source": [
    "query_string = '''\n",
    "USING PERIODIC COMMIT 10000\n",
    "LOAD CSV FROM 'file:///nsesec_col_140000.csv' AS line\n",
    "MERGE(a: Symbol { Symbol: line[1]})\n",
    "MERGE (b: Series {Series: line[2]})\n",
    "MERGE(c: Date { Date: line[3]})\n",
    "MERGE(d: Prev_Close { Prev_Close: line[4]})\n",
    "MERGE(e: Open { Open: line[5]})\n",
    "MERGE(f: High { High: line[6]})\n",
    "MERGE(g: Low { Low: line[7]})\n",
    "MERGE(h: LTP { LTP: line[8]})\n",
    "MERGE(i: Close { Close: line[9]})\n",
    "MERGE(j: Average_Price {Average_Price: line[10]})\n",
    "MERGE(k: Total_Traded_Quantity {Total_Traded_Quantity : line[11]})\n",
    "MERGE(l: Turnover {Turnover : line[12]})\n",
    "MERGE(m: No_of_Trades {No_Of_Trades: line[13]})\n",
    "MERGE(n: Deliverable_Qty {Deliverable_Qty: line[14]})\n",
    "MERGE(o: Deliverable_Qty_To_Traded_Qty {Deliverable_Qty_To_Traded_Qty: line[15]})\n",
    "//Relationships::\n",
    "\n",
    "\n",
    "MERGE (a)-[:Series]->(b)\n",
    "MERGE (a)-[:Date]->(c)\n",
    "MERGE (a)-[:Prev_Close]->(d)\n",
    "MERGE (a)-[:Open]->(e)\n",
    "MERGE (a)-[:High]->(f)\n",
    "MERGE (a)-[:Low]->(g)\n",
    "MERGE (a)-[:LTP]->(h)\n",
    "MERGE (a)-[:Close]->(i)\n",
    "MERGE (a)-[:Average_Price]->(j)\n",
    "MERGE (a)-[:Total_Traded_Quantity]->(k)\n",
    "MERGE (a)-[:Turnover]->(l)\n",
    "MERGE (a)-[:No_of_Trades]->(m)\n",
    "MERGE (a)-[:Deliverable_Qty]->(n)\n",
    "MERGE (a)-[:Deliverable_Qty_To_Traded_Qty]->(o)\n",
    "'''\n",
    "# started at 10 05\n",
    "conn.query(query_string, db='testpm')"
   ]
  },
  {
   "cell_type": "code",
   "execution_count": null,
   "metadata": {},
   "outputs": [],
   "source": [
    "query_string = '''\n",
    "MATCH (n) RETURN count(n)\n",
    "'''\n",
    "\n",
    "conn.query(query_string, db='testpm')"
   ]
  },
  {
   "cell_type": "code",
   "execution_count": null,
   "metadata": {},
   "outputs": [],
   "source": []
  },
  {
   "cell_type": "code",
   "execution_count": null,
   "metadata": {},
   "outputs": [],
   "source": [
    "query_string = '''\n",
    "USING PERIODIC COMMIT 10000\n",
    "LOAD CSV FROM 'file:///nsesec_col_160000.csv' AS line\n",
    "MERGE(a: Symbol { Symbol: line[1]})\n",
    "MERGE (b: Series {Series: line[2]})\n",
    "MERGE(c: Date { Date: line[3]})\n",
    "MERGE(d: Prev_Close { Prev_Close: line[4]})\n",
    "MERGE(e: Open { Open: line[5]})\n",
    "MERGE(f: High { High: line[6]})\n",
    "MERGE(g: Low { Low: line[7]})\n",
    "MERGE(h: LTP { LTP: line[8]})\n",
    "MERGE(i: Close { Close: line[9]})\n",
    "MERGE(j: Average_Price {Average_Price: line[10]})\n",
    "MERGE(k: Total_Traded_Quantity {Total_Traded_Quantity : line[11]})\n",
    "MERGE(l: Turnover {Turnover : line[12]})\n",
    "MERGE(m: No_of_Trades {No_Of_Trades: line[13]})\n",
    "MERGE(n: Deliverable_Qty {Deliverable_Qty: line[14]})\n",
    "MERGE(o: Deliverable_Qty_To_Traded_Qty {Deliverable_Qty_To_Traded_Qty: line[15]})\n",
    "//Relationships::\n",
    "\n",
    "\n",
    "MERGE (a)-[:Series]->(b)\n",
    "MERGE (a)-[:Date]->(c)\n",
    "MERGE (a)-[:Prev_Close]->(d)\n",
    "MERGE (a)-[:Open]->(e)\n",
    "MERGE (a)-[:High]->(f)\n",
    "MERGE (a)-[:Low]->(g)\n",
    "MERGE (a)-[:LTP]->(h)\n",
    "MERGE (a)-[:Close]->(i)\n",
    "MERGE (a)-[:Average_Price]->(j)\n",
    "MERGE (a)-[:Total_Traded_Quantity]->(k)\n",
    "MERGE (a)-[:Turnover]->(l)\n",
    "MERGE (a)-[:No_of_Trades]->(m)\n",
    "MERGE (a)-[:Deliverable_Qty]->(n)\n",
    "MERGE (a)-[:Deliverable_Qty_To_Traded_Qty]->(o)\n",
    "'''\n",
    "# started at 10 05\n",
    "conn.query(query_string, db='testpm')"
   ]
  },
  {
   "cell_type": "code",
   "execution_count": null,
   "metadata": {},
   "outputs": [],
   "source": [
    "query_string = '''\n",
    "MATCH (n) RETURN count(n)\n",
    "'''\n",
    "\n",
    "conn.query(query_string, db='testpm')"
   ]
  },
  {
   "cell_type": "code",
   "execution_count": null,
   "metadata": {},
   "outputs": [],
   "source": []
  },
  {
   "cell_type": "code",
   "execution_count": null,
   "metadata": {},
   "outputs": [],
   "source": [
    "query_string = '''\n",
    "USING PERIODIC COMMIT 10000\n",
    "LOAD CSV FROM 'file:///nsesec_col_180000.csv' AS line\n",
    "MERGE(a: Symbol { Symbol: line[1]})\n",
    "MERGE (b: Series {Series: line[2]})\n",
    "MERGE(c: Date { Date: line[3]})\n",
    "MERGE(d: Prev_Close { Prev_Close: line[4]})\n",
    "MERGE(e: Open { Open: line[5]})\n",
    "MERGE(f: High { High: line[6]})\n",
    "MERGE(g: Low { Low: line[7]})\n",
    "MERGE(h: LTP { LTP: line[8]})\n",
    "MERGE(i: Close { Close: line[9]})\n",
    "MERGE(j: Average_Price {Average_Price: line[10]})\n",
    "MERGE(k: Total_Traded_Quantity {Total_Traded_Quantity : line[11]})\n",
    "MERGE(l: Turnover {Turnover : line[12]})\n",
    "MERGE(m: No_of_Trades {No_Of_Trades: line[13]})\n",
    "MERGE(n: Deliverable_Qty {Deliverable_Qty: line[14]})\n",
    "MERGE(o: Deliverable_Qty_To_Traded_Qty {Deliverable_Qty_To_Traded_Qty: line[15]})\n",
    "//Relationships::\n",
    "\n",
    "\n",
    "MERGE (a)-[:Series]->(b)\n",
    "MERGE (a)-[:Date]->(c)\n",
    "MERGE (a)-[:Prev_Close]->(d)\n",
    "MERGE (a)-[:Open]->(e)\n",
    "MERGE (a)-[:High]->(f)\n",
    "MERGE (a)-[:Low]->(g)\n",
    "MERGE (a)-[:LTP]->(h)\n",
    "MERGE (a)-[:Close]->(i)\n",
    "MERGE (a)-[:Average_Price]->(j)\n",
    "MERGE (a)-[:Total_Traded_Quantity]->(k)\n",
    "MERGE (a)-[:Turnover]->(l)\n",
    "MERGE (a)-[:No_of_Trades]->(m)\n",
    "MERGE (a)-[:Deliverable_Qty]->(n)\n",
    "MERGE (a)-[:Deliverable_Qty_To_Traded_Qty]->(o)\n",
    "\n",
    "'''\n",
    "# started at 10 05\n",
    "conn.query(query_string, db='testpm')"
   ]
  },
  {
   "cell_type": "code",
   "execution_count": null,
   "metadata": {},
   "outputs": [],
   "source": [
    "query_string = '''\n",
    "MATCH (n) RETURN count(n)\n",
    "'''\n",
    "\n",
    "conn.query(query_string, db='testpm')"
   ]
  },
  {
   "cell_type": "code",
   "execution_count": null,
   "metadata": {},
   "outputs": [],
   "source": []
  },
  {
   "cell_type": "code",
   "execution_count": null,
   "metadata": {},
   "outputs": [],
   "source": [
    "query_string = '''\n",
    "USING PERIODIC COMMIT 10000\n",
    "LOAD CSV FROM 'file:///nsesec_col_200000.csv' AS line\n",
    "MERGE(a: Symbol { Symbol: line[1]})\n",
    "MERGE (b: Series {Series: line[2]})\n",
    "MERGE(c: Date { Date: line[3]})\n",
    "MERGE(d: Prev_Close { Prev_Close: line[4]})\n",
    "MERGE(e: Open { Open: line[5]})\n",
    "MERGE(f: High { High: line[6]})\n",
    "MERGE(g: Low { Low: line[7]})\n",
    "MERGE(h: LTP { LTP: line[8]})\n",
    "MERGE(i: Close { Close: line[9]})\n",
    "MERGE(j: Average_Price {Average_Price: line[10]})\n",
    "MERGE(k: Total_Traded_Quantity {Total_Traded_Quantity : line[11]})\n",
    "MERGE(l: Turnover {Turnover : line[12]})\n",
    "MERGE(m: No_of_Trades {No_Of_Trades: line[13]})\n",
    "MERGE(n: Deliverable_Qty {Deliverable_Qty: line[14]})\n",
    "MERGE(o: Deliverable_Qty_To_Traded_Qty {Deliverable_Qty_To_Traded_Qty: line[15]})\n",
    "//Relationships::\n",
    "\n",
    "\n",
    "MERGE (a)-[:Series]->(b)\n",
    "MERGE (a)-[:Date]->(c)\n",
    "MERGE (a)-[:Prev_Close]->(d)\n",
    "MERGE (a)-[:Open]->(e)\n",
    "MERGE (a)-[:High]->(f)\n",
    "MERGE (a)-[:Low]->(g)\n",
    "MERGE (a)-[:LTP]->(h)\n",
    "MERGE (a)-[:Close]->(i)\n",
    "MERGE (a)-[:Average_Price]->(j)\n",
    "MERGE (a)-[:Total_Traded_Quantity]->(k)\n",
    "MERGE (a)-[:Turnover]->(l)\n",
    "MERGE (a)-[:No_of_Trades]->(m)\n",
    "MERGE (a)-[:Deliverable_Qty]->(n)\n",
    "MERGE (a)-[:Deliverable_Qty_To_Traded_Qty]->(o)\n",
    "\n",
    "'''\n",
    "# started at 10 05\n",
    "conn.query(query_string, db='testpm')"
   ]
  },
  {
   "cell_type": "code",
   "execution_count": null,
   "metadata": {},
   "outputs": [],
   "source": [
    "query_string = '''\n",
    "MATCH (n) RETURN count(n)\n",
    "'''\n",
    "\n",
    "conn.query(query_string, db='testpm')"
   ]
  },
  {
   "cell_type": "code",
   "execution_count": null,
   "metadata": {},
   "outputs": [],
   "source": []
  },
  {
   "cell_type": "code",
   "execution_count": null,
   "metadata": {},
   "outputs": [],
   "source": []
  },
  {
   "cell_type": "code",
   "execution_count": null,
   "metadata": {},
   "outputs": [],
   "source": []
  },
  {
   "cell_type": "code",
   "execution_count": null,
   "metadata": {},
   "outputs": [],
   "source": []
  },
  {
   "cell_type": "code",
   "execution_count": null,
   "metadata": {},
   "outputs": [],
   "source": []
  }
 ],
 "metadata": {
  "kernelspec": {
   "display_name": "Python 3",
   "language": "python",
   "name": "python3"
  },
  "language_info": {
   "codemirror_mode": {
    "name": "ipython",
    "version": 3
   },
   "file_extension": ".py",
   "mimetype": "text/x-python",
   "name": "python",
   "nbconvert_exporter": "python",
   "pygments_lexer": "ipython3",
   "version": "3.8.3"
  }
 },
 "nbformat": 4,
 "nbformat_minor": 4
}
