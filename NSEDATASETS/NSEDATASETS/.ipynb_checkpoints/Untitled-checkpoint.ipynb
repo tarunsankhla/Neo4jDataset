{
 "cells": [
  {
   "cell_type": "code",
   "execution_count": 1,
   "metadata": {},
   "outputs": [],
   "source": [
    "import pandas as pd\n",
    "import numpy as np\n",
    "import glob"
   ]
  },
  {
   "cell_type": "code",
   "execution_count": 2,
   "metadata": {},
   "outputs": [],
   "source": [
    "### NSEFUTURES CSV"
   ]
  },
  {
   "cell_type": "code",
   "execution_count": 3,
   "metadata": {},
   "outputs": [],
   "source": [
    "path = r'NSEFUTURES/NiftyStocksFutures/' # use your path\n",
    "all_files = glob.glob(path + \"*/*.csv\")\n",
    "\n",
    "li = []\n",
    "count = 1\n",
    "\n",
    "for filename in all_files:\n",
    "    df = pd.read_csv(filename, index_col=None, header=0)\n",
    "    li.append(df)\n",
    "\n",
    "frame = pd.concat(li, axis=0, ignore_index=True)"
   ]
  },
  {
   "cell_type": "code",
   "execution_count": 4,
   "metadata": {},
   "outputs": [],
   "source": [
    "frame = frame.fillna(value=np.nan)"
   ]
  },
  {
   "cell_type": "code",
   "execution_count": 5,
   "metadata": {},
   "outputs": [],
   "source": [
    "frame = frame.fillna(-1)"
   ]
  },
  {
   "cell_type": "code",
   "execution_count": 6,
   "metadata": {},
   "outputs": [
    {
     "data": {
      "text/plain": [
       "array(['MUNDRAPORT', 'ADANIPORTS', 'ASIANPAINT', 'UTIBANK', 'AXISBANK',\n",
       "       'BAJAJ-AUTO', 'BAJAJFINSV', 'BAJFINANCE', 'BHARTI', 'BHARTIARTL',\n",
       "       'BPCL', 'BRITANNIA', 'CIPLA', 'COALINDIA', 'DRREDDY', 'EICHERMOT',\n",
       "       'GAIL', 'GRASIM', 'HCLTECH', 'HDFC', 'HDFCBANK', 'HEROHONDA',\n",
       "       'HEROMOTOCO', 'HINDALC0', 'HINDALCO', 'HINDLEVER', 'HINDUNILVR',\n",
       "       'ICICIBANK', 'INDUSINDBK', 'INFRATEL', 'INFOSYSTCH', 'INFY', 'IOC',\n",
       "       'ITC', 'JSWSTEEL', 'KOTAKBANK', 'LT', 'MARUTI', 'M&amp;M',\n",
       "       'NESTLEIND', 'NTPC', 'ONGC', 'POWERGRID', 'RELIANCE', 'SBIN',\n",
       "       'SHREECEM', 'SUNPHARMA', 'TELCO', 'TATAMOTORS', 'TISCO',\n",
       "       'TATASTEEL', 'TCS', 'TECHM', 'TITAN', 'ULTRACEMCO', 'UNIPHOS',\n",
       "       'UPL', 'SESAGOA', 'SSLT', 'VEDL', 'WIPRO', 'ZEETELE', 'ZEEL'],\n",
       "      dtype=object)"
      ]
     },
     "execution_count": 6,
     "metadata": {},
     "output_type": "execute_result"
    }
   ],
   "source": [
    "frame['Symbol'].unique()"
   ]
  },
  {
   "cell_type": "code",
   "execution_count": 7,
   "metadata": {},
   "outputs": [
    {
     "name": "stderr",
     "output_type": "stream",
     "text": [
      "<ipython-input-7-8b27e8bc8e77>:5: SettingWithCopyWarning: \n",
      "A value is trying to be set on a copy of a slice from a DataFrame.\n",
      "Try using .loc[row_indexer,col_indexer] = value instead\n",
      "\n",
      "See the caveats in the documentation: https://pandas.pydata.org/pandas-docs/stable/user_guide/indexing.html#returning-a-view-versus-a-copy\n",
      "  mf['stockKey'] = count\n"
     ]
    }
   ],
   "source": [
    "count = 1\n",
    "ls = []\n",
    "for i in frame['Symbol'].unique():\n",
    "    mf = frame.loc[frame['Symbol'] == i]\n",
    "    mf['stockKey'] = count\n",
    "    count = count + 1\n",
    "    ls.append(mf)\n",
    "    \n",
    "frame = pd.concat(ls, axis=0, ignore_index=True)"
   ]
  },
  {
   "cell_type": "code",
   "execution_count": 13,
   "metadata": {},
   "outputs": [
    {
     "data": {
      "text/html": [
       "<div>\n",
       "<style scoped>\n",
       "    .dataframe tbody tr th:only-of-type {\n",
       "        vertical-align: middle;\n",
       "    }\n",
       "\n",
       "    .dataframe tbody tr th {\n",
       "        vertical-align: top;\n",
       "    }\n",
       "\n",
       "    .dataframe thead th {\n",
       "        text-align: right;\n",
       "    }\n",
       "</style>\n",
       "<table border=\"1\" class=\"dataframe\">\n",
       "  <thead>\n",
       "    <tr style=\"text-align: right;\">\n",
       "      <th></th>\n",
       "      <th>Symbol</th>\n",
       "      <th>Date</th>\n",
       "      <th>Expiry</th>\n",
       "      <th>Open_Price</th>\n",
       "      <th>High_Price</th>\n",
       "      <th>Low_Price</th>\n",
       "      <th>Close_Price</th>\n",
       "      <th>Last_Price</th>\n",
       "      <th>Settle_Price</th>\n",
       "      <th>No_of_Contracts</th>\n",
       "      <th>Turnover_in_Lacs</th>\n",
       "      <th>Open_Int</th>\n",
       "      <th>Change_in_OI</th>\n",
       "      <th>Underlying_Value</th>\n",
       "      <th>stockKey</th>\n",
       "    </tr>\n",
       "  </thead>\n",
       "  <tbody>\n",
       "    <tr>\n",
       "      <th>0</th>\n",
       "      <td>MUNDRAPORT</td>\n",
       "      <td>19-Feb-2010</td>\n",
       "      <td>25-Feb-2010</td>\n",
       "      <td>666.00</td>\n",
       "      <td>683.0</td>\n",
       "      <td>652.9</td>\n",
       "      <td>657.45</td>\n",
       "      <td>656.50</td>\n",
       "      <td>657.45</td>\n",
       "      <td>520</td>\n",
       "      <td>1036.64</td>\n",
       "      <td>45300</td>\n",
       "      <td>45300</td>\n",
       "      <td>655.3</td>\n",
       "      <td>1</td>\n",
       "    </tr>\n",
       "    <tr>\n",
       "      <th>1</th>\n",
       "      <td>MUNDRAPORT</td>\n",
       "      <td>19-Feb-2010</td>\n",
       "      <td>25-Mar-2010</td>\n",
       "      <td>669.00</td>\n",
       "      <td>675.0</td>\n",
       "      <td>657.8</td>\n",
       "      <td>658.70</td>\n",
       "      <td>657.80</td>\n",
       "      <td>658.70</td>\n",
       "      <td>155</td>\n",
       "      <td>308.98</td>\n",
       "      <td>35100</td>\n",
       "      <td>35100</td>\n",
       "      <td>655.3</td>\n",
       "      <td>1</td>\n",
       "    </tr>\n",
       "    <tr>\n",
       "      <th>2</th>\n",
       "      <td>MUNDRAPORT</td>\n",
       "      <td>19-Feb-2010</td>\n",
       "      <td>29-Apr-2010</td>\n",
       "      <td>0.00</td>\n",
       "      <td>0.0</td>\n",
       "      <td>0.0</td>\n",
       "      <td>674.25</td>\n",
       "      <td>0.00</td>\n",
       "      <td>661.35</td>\n",
       "      <td>0</td>\n",
       "      <td>0.00</td>\n",
       "      <td>0</td>\n",
       "      <td>0</td>\n",
       "      <td>655.3</td>\n",
       "      <td>1</td>\n",
       "    </tr>\n",
       "    <tr>\n",
       "      <th>3</th>\n",
       "      <td>MUNDRAPORT</td>\n",
       "      <td>22-Feb-2010</td>\n",
       "      <td>25-Feb-2010</td>\n",
       "      <td>663.50</td>\n",
       "      <td>664.6</td>\n",
       "      <td>646.5</td>\n",
       "      <td>648.00</td>\n",
       "      <td>646.50</td>\n",
       "      <td>648.00</td>\n",
       "      <td>132</td>\n",
       "      <td>259.11</td>\n",
       "      <td>49500</td>\n",
       "      <td>4200</td>\n",
       "      <td>648.05</td>\n",
       "      <td>1</td>\n",
       "    </tr>\n",
       "    <tr>\n",
       "      <th>4</th>\n",
       "      <td>MUNDRAPORT</td>\n",
       "      <td>22-Feb-2010</td>\n",
       "      <td>25-Mar-2010</td>\n",
       "      <td>663.15</td>\n",
       "      <td>665.0</td>\n",
       "      <td>648.0</td>\n",
       "      <td>648.90</td>\n",
       "      <td>648.90</td>\n",
       "      <td>648.90</td>\n",
       "      <td>51</td>\n",
       "      <td>100.08</td>\n",
       "      <td>37800</td>\n",
       "      <td>2700</td>\n",
       "      <td>648.05</td>\n",
       "      <td>1</td>\n",
       "    </tr>\n",
       "    <tr>\n",
       "      <th>...</th>\n",
       "      <td>...</td>\n",
       "      <td>...</td>\n",
       "      <td>...</td>\n",
       "      <td>...</td>\n",
       "      <td>...</td>\n",
       "      <td>...</td>\n",
       "      <td>...</td>\n",
       "      <td>...</td>\n",
       "      <td>...</td>\n",
       "      <td>...</td>\n",
       "      <td>...</td>\n",
       "      <td>...</td>\n",
       "      <td>...</td>\n",
       "      <td>...</td>\n",
       "      <td>...</td>\n",
       "    </tr>\n",
       "    <tr>\n",
       "      <th>520771</th>\n",
       "      <td>ZEEL</td>\n",
       "      <td>27-Feb-2015</td>\n",
       "      <td>30-Apr-2015</td>\n",
       "      <td>352.50</td>\n",
       "      <td>352.6</td>\n",
       "      <td>347.6</td>\n",
       "      <td>352.10</td>\n",
       "      <td>352.45</td>\n",
       "      <td>352.10</td>\n",
       "      <td>25</td>\n",
       "      <td>87.54</td>\n",
       "      <td>27000</td>\n",
       "      <td>13000</td>\n",
       "      <td>348.95</td>\n",
       "      <td>63</td>\n",
       "    </tr>\n",
       "    <tr>\n",
       "      <th>520772</th>\n",
       "      <td>ZEEL</td>\n",
       "      <td>27-Feb-2015</td>\n",
       "      <td>28-May-2015</td>\n",
       "      <td>0.00</td>\n",
       "      <td>0.0</td>\n",
       "      <td>0.0</td>\n",
       "      <td>350.60</td>\n",
       "      <td>0.00</td>\n",
       "      <td>356.50</td>\n",
       "      <td>0</td>\n",
       "      <td>0.00</td>\n",
       "      <td>0</td>\n",
       "      <td>0</td>\n",
       "      <td>348.95</td>\n",
       "      <td>63</td>\n",
       "    </tr>\n",
       "    <tr>\n",
       "      <th>520773</th>\n",
       "      <td>ZEEL</td>\n",
       "      <td>28-Feb-2015</td>\n",
       "      <td>26-Mar-2015</td>\n",
       "      <td>350.95</td>\n",
       "      <td>352.5</td>\n",
       "      <td>345.1</td>\n",
       "      <td>349.20</td>\n",
       "      <td>347.90</td>\n",
       "      <td>349.20</td>\n",
       "      <td>2054</td>\n",
       "      <td>7182.33</td>\n",
       "      <td>11078000</td>\n",
       "      <td>220000</td>\n",
       "      <td>346.45</td>\n",
       "      <td>63</td>\n",
       "    </tr>\n",
       "    <tr>\n",
       "      <th>520774</th>\n",
       "      <td>ZEEL</td>\n",
       "      <td>28-Feb-2015</td>\n",
       "      <td>30-Apr-2015</td>\n",
       "      <td>351.35</td>\n",
       "      <td>354.6</td>\n",
       "      <td>348.0</td>\n",
       "      <td>352.00</td>\n",
       "      <td>352.00</td>\n",
       "      <td>352.00</td>\n",
       "      <td>21</td>\n",
       "      <td>74.05</td>\n",
       "      <td>32000</td>\n",
       "      <td>5000</td>\n",
       "      <td>346.45</td>\n",
       "      <td>63</td>\n",
       "    </tr>\n",
       "    <tr>\n",
       "      <th>520775</th>\n",
       "      <td>ZEEL</td>\n",
       "      <td>28-Feb-2015</td>\n",
       "      <td>28-May-2015</td>\n",
       "      <td>0.00</td>\n",
       "      <td>0.0</td>\n",
       "      <td>0.0</td>\n",
       "      <td>350.60</td>\n",
       "      <td>0.00</td>\n",
       "      <td>353.85</td>\n",
       "      <td>0</td>\n",
       "      <td>0.00</td>\n",
       "      <td>0</td>\n",
       "      <td>0</td>\n",
       "      <td>346.45</td>\n",
       "      <td>63</td>\n",
       "    </tr>\n",
       "  </tbody>\n",
       "</table>\n",
       "<p>520776 rows × 15 columns</p>\n",
       "</div>"
      ],
      "text/plain": [
       "            Symbol         Date       Expiry  Open_Price  High_Price  \\\n",
       "0       MUNDRAPORT  19-Feb-2010  25-Feb-2010      666.00       683.0   \n",
       "1       MUNDRAPORT  19-Feb-2010  25-Mar-2010      669.00       675.0   \n",
       "2       MUNDRAPORT  19-Feb-2010  29-Apr-2010        0.00         0.0   \n",
       "3       MUNDRAPORT  22-Feb-2010  25-Feb-2010      663.50       664.6   \n",
       "4       MUNDRAPORT  22-Feb-2010  25-Mar-2010      663.15       665.0   \n",
       "...            ...          ...          ...         ...         ...   \n",
       "520771        ZEEL  27-Feb-2015  30-Apr-2015      352.50       352.6   \n",
       "520772        ZEEL  27-Feb-2015  28-May-2015        0.00         0.0   \n",
       "520773        ZEEL  28-Feb-2015  26-Mar-2015      350.95       352.5   \n",
       "520774        ZEEL  28-Feb-2015  30-Apr-2015      351.35       354.6   \n",
       "520775        ZEEL  28-Feb-2015  28-May-2015        0.00         0.0   \n",
       "\n",
       "        Low_Price  Close_Price  Last_Price  Settle_Price  No_of_Contracts  \\\n",
       "0           652.9       657.45      656.50        657.45              520   \n",
       "1           657.8       658.70      657.80        658.70              155   \n",
       "2             0.0       674.25        0.00        661.35                0   \n",
       "3           646.5       648.00      646.50        648.00              132   \n",
       "4           648.0       648.90      648.90        648.90               51   \n",
       "...           ...          ...         ...           ...              ...   \n",
       "520771      347.6       352.10      352.45        352.10               25   \n",
       "520772        0.0       350.60        0.00        356.50                0   \n",
       "520773      345.1       349.20      347.90        349.20             2054   \n",
       "520774      348.0       352.00      352.00        352.00               21   \n",
       "520775        0.0       350.60        0.00        353.85                0   \n",
       "\n",
       "        Turnover_in_Lacs  Open_Int  Change_in_OI Underlying_Value  stockKey  \n",
       "0                1036.64     45300         45300            655.3         1  \n",
       "1                 308.98     35100         35100            655.3         1  \n",
       "2                   0.00         0             0            655.3         1  \n",
       "3                 259.11     49500          4200           648.05         1  \n",
       "4                 100.08     37800          2700           648.05         1  \n",
       "...                  ...       ...           ...              ...       ...  \n",
       "520771             87.54     27000         13000           348.95        63  \n",
       "520772              0.00         0             0           348.95        63  \n",
       "520773           7182.33  11078000        220000           346.45        63  \n",
       "520774             74.05     32000          5000           346.45        63  \n",
       "520775              0.00         0             0           346.45        63  \n",
       "\n",
       "[520776 rows x 15 columns]"
      ]
     },
     "execution_count": 13,
     "metadata": {},
     "output_type": "execute_result"
    }
   ],
   "source": [
    "frame"
   ]
  },
  {
   "cell_type": "code",
   "execution_count": 12,
   "metadata": {},
   "outputs": [],
   "source": [
    "frame.rename(columns = {'Open':'Open_Price', 'High':'High_Price', \n",
    "                              'Low':'Low_Price', 'Close':'Close_Price', 'LTP':'Last_Price', 'No. of Trades':'No_of_Trades','Deliverable Qty':'Deliverable_Qty','%Dly Qt to Traded Qty':'%Dly_Qt_to_Traded_Qty', 'Settle Price':'Settle_Price', 'No. of contracts': 'No_of_Contracts','Turnover in Lacs':'Turnover_in_Lacs','Open Int':'Open_Int','Change in OI':'Change_in_OI','Underlying Value ':'Underlying_Value'}, inplace = True) "
   ]
  },
  {
   "cell_type": "code",
   "execution_count": 14,
   "metadata": {},
   "outputs": [],
   "source": [
    "frame['Date']\n",
    "\n",
    "frame['Date'] = pd.to_datetime(frame.Date)"
   ]
  },
  {
   "cell_type": "code",
   "execution_count": 15,
   "metadata": {},
   "outputs": [],
   "source": [
    "frame['Date'] = frame['Date'].dt.strftime('%Y-%m-%d')"
   ]
  },
  {
   "cell_type": "code",
   "execution_count": 16,
   "metadata": {},
   "outputs": [
    {
     "data": {
      "text/plain": [
       "0         2010-02-19\n",
       "1         2010-02-19\n",
       "2         2010-02-19\n",
       "3         2010-02-22\n",
       "4         2010-02-22\n",
       "             ...    \n",
       "520771    2015-02-27\n",
       "520772    2015-02-27\n",
       "520773    2015-02-28\n",
       "520774    2015-02-28\n",
       "520775    2015-02-28\n",
       "Name: Date, Length: 520776, dtype: object"
      ]
     },
     "execution_count": 16,
     "metadata": {},
     "output_type": "execute_result"
    }
   ],
   "source": [
    "frame['Date']"
   ]
  },
  {
   "cell_type": "code",
   "execution_count": null,
   "metadata": {},
   "outputs": [],
   "source": []
  },
  {
   "cell_type": "code",
   "execution_count": 18,
   "metadata": {},
   "outputs": [],
   "source": [
    "for i in range(0, len(frame), 20000):\n",
    "    col1 = frame[i:i+20000]\n",
    "#     col1 = col1.to_frame()\n",
    "    col1.to_csv(r\"NiftyStocksFutures_col_\"+str(i)+\".csv\")"
   ]
  },
  {
   "cell_type": "code",
   "execution_count": 17,
   "metadata": {},
   "outputs": [],
   "source": [
    "frame.to_csv(\"nsefutures_v2.csv\")"
   ]
  },
  {
   "cell_type": "code",
   "execution_count": null,
   "metadata": {},
   "outputs": [],
   "source": [
    "# NSESECURITIES CSV"
   ]
  },
  {
   "cell_type": "code",
   "execution_count": 19,
   "metadata": {},
   "outputs": [],
   "source": [
    "path = r'NSESECURITIES/' # use your path\n",
    "all_files = glob.glob(path + \"*/*.csv\")\n",
    "\n",
    "li = []\n",
    "\n",
    "for filename in all_files:\n",
    "    df = pd.read_csv(filename, index_col=None, header=0)\n",
    "    li.append(df)\n",
    "\n",
    "frame = pd.concat(li, axis=0, ignore_index=True)"
   ]
  },
  {
   "cell_type": "code",
   "execution_count": 20,
   "metadata": {},
   "outputs": [],
   "source": [
    "frame = frame.fillna(value=np.nan)"
   ]
  },
  {
   "cell_type": "code",
   "execution_count": 21,
   "metadata": {},
   "outputs": [],
   "source": [
    "frame = frame.fillna(-1)"
   ]
  },
  {
   "cell_type": "code",
   "execution_count": 22,
   "metadata": {},
   "outputs": [
    {
     "data": {
      "text/plain": [
       "(290753, 15)"
      ]
     },
     "execution_count": 22,
     "metadata": {},
     "output_type": "execute_result"
    }
   ],
   "source": [
    "frame.shape"
   ]
  },
  {
   "cell_type": "code",
   "execution_count": 23,
   "metadata": {},
   "outputs": [
    {
     "name": "stderr",
     "output_type": "stream",
     "text": [
      "<ipython-input-23-8b27e8bc8e77>:5: SettingWithCopyWarning: \n",
      "A value is trying to be set on a copy of a slice from a DataFrame.\n",
      "Try using .loc[row_indexer,col_indexer] = value instead\n",
      "\n",
      "See the caveats in the documentation: https://pandas.pydata.org/pandas-docs/stable/user_guide/indexing.html#returning-a-view-versus-a-copy\n",
      "  mf['stockKey'] = count\n"
     ]
    }
   ],
   "source": [
    "count = 1\n",
    "ls = []\n",
    "for i in frame['Symbol'].unique():\n",
    "    mf = frame.loc[frame['Symbol'] == i]\n",
    "    mf['stockKey'] = count\n",
    "    count = count + 1\n",
    "    ls.append(mf)\n",
    "    \n",
    "frame = pd.concat(ls, axis=0, ignore_index=True)"
   ]
  },
  {
   "cell_type": "code",
   "execution_count": 24,
   "metadata": {},
   "outputs": [],
   "source": [
    "frame.rename(columns = {'Open Price':'Open_Price', 'High Price':'High_Price', \n",
    "                              'Low Price':'Low_Price', 'Close Price':'Close_Price', 'Last Price':'Last_Price', 'Prev Close':'Prev_Close', 'Average Price':'Average_Price', 'Total Traded Quantity':'Total_Traded_Quantity','No. of Trades':'No_Of_Trades','Deliverable Qty':'Deliverable_Qty','% Dly Qt to Traded Qty':'%Dly_Qt_to_Traded_Qty'}, inplace=True)"
   ]
  },
  {
   "cell_type": "code",
   "execution_count": 25,
   "metadata": {},
   "outputs": [],
   "source": [
    "frame['Date']\n",
    "\n",
    "frame['Date'] = pd.to_datetime(frame.Date)"
   ]
  },
  {
   "cell_type": "code",
   "execution_count": 26,
   "metadata": {},
   "outputs": [],
   "source": [
    "frame['Date'] = frame['Date'].dt.strftime('%Y-%m-%d')"
   ]
  },
  {
   "cell_type": "code",
   "execution_count": 27,
   "metadata": {},
   "outputs": [
    {
     "data": {
      "text/plain": [
       "Index(['Symbol', 'Series', 'Date', 'Prev_Close', 'Open_Price', 'High_Price',\n",
       "       'Low_Price', 'Last_Price', 'Close_Price', 'Average_Price',\n",
       "       'Total_Traded_Quantity', 'Turnover', 'No_Of_Trades', 'Deliverable_Qty',\n",
       "       '%Dly_Qt_to_Traded_Qty', 'stockKey'],\n",
       "      dtype='object')"
      ]
     },
     "execution_count": 27,
     "metadata": {},
     "output_type": "execute_result"
    }
   ],
   "source": [
    "frame.columns"
   ]
  },
  {
   "cell_type": "code",
   "execution_count": 28,
   "metadata": {},
   "outputs": [],
   "source": [
    "for i in range(0, len(frame), 20000):\n",
    "    col1 = frame[i:i+20000]\n",
    "#     col1 = col1.to_frame()\n",
    "    col1.to_csv(r\"nsesec_col_\"+str(i)+\".csv\")"
   ]
  },
  {
   "cell_type": "code",
   "execution_count": 29,
   "metadata": {},
   "outputs": [],
   "source": [
    "frame.to_csv(\"nsesecurities_v2.csv\")"
   ]
  },
  {
   "cell_type": "code",
   "execution_count": null,
   "metadata": {
    "scrolled": true
   },
   "outputs": [],
   "source": [
    "list(frame)"
   ]
  },
  {
   "cell_type": "code",
   "execution_count": null,
   "metadata": {},
   "outputs": [],
   "source": []
  },
  {
   "cell_type": "code",
   "execution_count": 30,
   "metadata": {},
   "outputs": [],
   "source": [
    "import pandas as pd\n",
    "import numpy as np\n",
    "from py2neo import Graph\n",
    "from neo4j import GraphDatabase"
   ]
  },
  {
   "cell_type": "code",
   "execution_count": 31,
   "metadata": {},
   "outputs": [],
   "source": [
    "# df = pd.read_parquet('product_master_05062020230002.parquet/product_master_05062020230002.parquet', engine='pyarrow')\n"
   ]
  },
  {
   "cell_type": "code",
   "execution_count": 32,
   "metadata": {},
   "outputs": [
    {
     "name": "stdout",
     "output_type": "stream",
     "text": [
      "4.1.1\n"
     ]
    }
   ],
   "source": [
    "from neo4j import __version__ as neo4j_version\n",
    "print(neo4j_version)"
   ]
  },
  {
   "cell_type": "code",
   "execution_count": 33,
   "metadata": {},
   "outputs": [],
   "source": [
    "from neo4j import GraphDatabase\n",
    "\n",
    "class Neo4jConnection:\n",
    "    \n",
    "    def __init__(self, uri, user, pwd):\n",
    "        self.__uri = uri\n",
    "        self.__user = user\n",
    "        self.__pwd = pwd\n",
    "        self.__driver = None\n",
    "        try:\n",
    "            self.__driver = GraphDatabase.driver(self.__uri, auth=(self.__user, self.__pwd))\n",
    "        except Exception as e:\n",
    "            print(\"Failed to create the driver:\", e)\n",
    "        \n",
    "    def close(self):\n",
    "        if self.__driver is not None:\n",
    "            self.__driver.close()\n",
    "        \n",
    "    def query(self, query, db=None):\n",
    "        assert self.__driver is not None, \"Driver not initialized!\"\n",
    "        session = None\n",
    "        response = None\n",
    "        try: \n",
    "            session = self.__driver.session(database=db) if db is not None else self.__driver.session() \n",
    "            response = list(session.run(query))\n",
    "        except Exception as e:\n",
    "            print(\"Query failed:\", e)\n",
    "        finally: \n",
    "            if session is not None:\n",
    "                session.close()\n",
    "        return response"
   ]
  },
  {
   "cell_type": "code",
   "execution_count": 35,
   "metadata": {},
   "outputs": [],
   "source": [
    "conn = Neo4jConnection(uri=\"bolt://localhost:7687\", user=\"karan\", pwd=\"root\")"
   ]
  },
  {
   "cell_type": "code",
   "execution_count": 36,
   "metadata": {},
   "outputs": [],
   "source": [
    "#list(frame)"
   ]
  },
  {
   "cell_type": "code",
   "execution_count": 43,
   "metadata": {},
   "outputs": [
    {
     "data": {
      "text/plain": [
       "[]"
      ]
     },
     "execution_count": 43,
     "metadata": {},
     "output_type": "execute_result"
    }
   ],
   "source": [
    "conn.query(\"CREATE OR REPLACE DATABASE stock\")"
   ]
  },
  {
   "cell_type": "code",
   "execution_count": 44,
   "metadata": {},
   "outputs": [],
   "source": [
    "# ### lOAD DATE NODES\n",
    "\n",
    "# query_string = '''\n",
    "# LOAD CSV WITH HEADERS FROM 'file:///nsesec_col_20000.csv' AS row\n",
    "# MERGE (s:Stock { Symbol: row.Symbol, Series: row.Series, Prev_Close: row.Prev_Close, Open_Price: row.Open_Price, High_Price: row.High_Price, Low_Price:row.Low_Price,Last_Price:row.Last_Price,Close_Price:row.Close_Price,Average_Price:row.Average_Price,Total_Traded_Quantity:row.Total_Traded_Quantity })\n",
    "# MERGE (d:Date {Date: row.Date})\n",
    "\n",
    "# '''\n",
    "# # started at 10 05\n",
    "# conn.query(query_string, db='stock')"
   ]
  },
  {
   "cell_type": "code",
   "execution_count": 45,
   "metadata": {},
   "outputs": [
    {
     "data": {
      "text/plain": [
       "[]"
      ]
     },
     "execution_count": 45,
     "metadata": {},
     "output_type": "execute_result"
    }
   ],
   "source": [
    "### lOAD DATE NODES\n",
    "\n",
    "query_string = '''\n",
    "\n",
    "LOAD CSV WITH HEADERS FROM 'file:///date_1980_onwards.csv' AS line\n",
    "CREATE (a: Date { date: line.Date})\n",
    "\n",
    "'''\n",
    "# started at 10 05\n",
    "conn.query(query_string, db='stock')"
   ]
  },
  {
   "cell_type": "code",
   "execution_count": 46,
   "metadata": {},
   "outputs": [
    {
     "data": {
      "text/plain": [
       "[<Record count(n)=14884>]"
      ]
     },
     "execution_count": 46,
     "metadata": {},
     "output_type": "execute_result"
    }
   ],
   "source": [
    "query_string = '''\n",
    "MATCH (n) RETURN count(n)\n",
    "'''\n",
    "\n",
    "conn.query(query_string, db='stock')"
   ]
  },
  {
   "cell_type": "code",
   "execution_count": null,
   "metadata": {},
   "outputs": [],
   "source": []
  },
  {
   "cell_type": "code",
   "execution_count": 47,
   "metadata": {},
   "outputs": [
    {
     "data": {
      "text/plain": [
       "[]"
      ]
     },
     "execution_count": 47,
     "metadata": {},
     "output_type": "execute_result"
    }
   ],
   "source": [
    "### LOAD STOCK DATA AND POINT THEM TO THEIR RESPECTIVE DATES\n",
    "\n",
    "query_string = '''\n",
    "LOAD CSV WITH HEADERS FROM 'file:///nsesecurities_v2_sample.csv' AS row\n",
    "MERGE (s:Stock { Symbol: row.Symbol, Series: row.Series, Prev_Close: row.Prev_Close, Open_Price: row.Open_Price, High_Price: row.High_Price, Low_Price:row.Low_Price,Last_Price:row.Last_Price,Close_Price:row.Close_Price,Average_Price:row.Average_Price,Total_Traded_Quantity:row.Total_Traded_Quantity })\n",
    "MERGE (d:Date {Date: row.Date})\n",
    "\n",
    "MERGE (s)<-[:HAS_DATE]->(d)\n",
    "'''\n",
    "# started at 11 40\n",
    "conn.query(query_string, db='stock')"
   ]
  },
  {
   "cell_type": "code",
   "execution_count": 48,
   "metadata": {},
   "outputs": [
    {
     "data": {
      "text/plain": [
       "[<Record count(n)=16931>]"
      ]
     },
     "execution_count": 48,
     "metadata": {},
     "output_type": "execute_result"
    }
   ],
   "source": [
    "query_string = '''\n",
    "MATCH (n) RETURN count(n)\n",
    "'''\n",
    "\n",
    "conn.query(query_string, db='stock')"
   ]
  },
  {
   "cell_type": "code",
   "execution_count": null,
   "metadata": {},
   "outputs": [],
   "source": [
    "### LOAD COMPANY NODES AND POINT THEM TO THEIR RESPECTIVE STOCK NODES\n",
    "\n",
    "query_string = '''\n",
    "LOAD CSV WITH HEADERS FROM 'file:///Stock_cin_v2_sample.csv' AS row\n",
    "MERGE (s:Stock { Symbol: row.Symbol, Alternate_Name: row.Alternate_Name, CIN: row.CIN, Company_Name: row.Company_Name, Company_Status: row.Company_Status, RoC:row.RoC,Registration_Number:row.Registration_Number,Company_Category:row.Company_Category,Company_Sub_Category:row.Company_Sub_Category,Class_of_Company:row.Class_of_Company, Date_of_Incorporation:row.Date_of_Incorporation,Age_of_Company:row.Age_of_Company,Activity:row.Activity \n",
    " })\n",
    "MERGE (d:Date {Date: row.Date})\n",
    "\n",
    "\n",
    "'''\n",
    "# started at 10 05\n",
    "conn.query(query_string, db='testpm')"
   ]
  },
  {
   "cell_type": "code",
   "execution_count": null,
   "metadata": {},
   "outputs": [],
   "source": [
    "query_string = '''\n",
    "MATCH (n) RETURN count(n)\n",
    "'''\n",
    "\n",
    "conn.query(query_string, db='testpm')"
   ]
  },
  {
   "cell_type": "code",
   "execution_count": null,
   "metadata": {},
   "outputs": [],
   "source": []
  },
  {
   "cell_type": "code",
   "execution_count": null,
   "metadata": {},
   "outputs": [],
   "source": [
    "query_string = '''\n",
    "USING PERIODIC COMMIT 10000\n",
    "LOAD CSV FROM 'file:///nsesec_col_280000.csv' AS line\n",
    "MERGE(a: Symbol { Symbol: line[1]})\n",
    "MERGE (b: Series {Series: line[2]})\n",
    "MERGE(c: Date { Date: line[3]})\n",
    "MERGE(d: Prev_Close { Prev_Close: line[4]})\n",
    "MERGE(e: Open { Open: line[5]})\n",
    "MERGE(f: High { High: line[6]})\n",
    "MERGE(g: Low { Low: line[7]})\n",
    "MERGE(h: LTP { LTP: line[8]})\n",
    "MERGE(i: Close { Close: line[9]})\n",
    "MERGE(j: Average_Price {Average_Price: line[10]})\n",
    "MERGE(k: Total_Traded_Quantity {Total_Traded_Quantity : line[11]})\n",
    "MERGE(l: Turnover {Turnover : line[12]})\n",
    "MERGE(m: No_of_Trades {No_Of_Trades: line[13]})\n",
    "MERGE(n: Deliverable_Qty {Deliverable_Qty: line[14]})\n",
    "MERGE(o: Deliverable_Qty_To_Traded_Qty {Deliverable_Qty_To_Traded_Qty: line[15]})\n",
    "//Relationships::\n",
    "\n",
    "\n",
    "MERGE (a)-[:Series]->(b)\n",
    "MERGE (a)-[:Date]->(c)\n",
    "MERGE (a)-[:Prev_Close]->(d)\n",
    "MERGE (a)-[:Open]->(e)\n",
    "MERGE (a)-[:High]->(f)\n",
    "MERGE (a)-[:Low]->(g)\n",
    "MERGE (a)-[:LTP]->(h)\n",
    "MERGE (a)-[:Close]->(i)\n",
    "MERGE (a)-[:Average_Price]->(j)\n",
    "MERGE (a)-[:Total_Traded_Quantity]->(k)\n",
    "MERGE (a)-[:Turnover]->(l)\n",
    "MERGE (a)-[:No_of_Trades]->(m)\n",
    "MERGE (a)-[:Deliverable_Qty]->(n)\n",
    "MERGE (a)-[:Deliverable_Qty_To_Traded_Qty]->(o)\n",
    "\n",
    "'''\n",
    "# started at 10 05\n",
    "conn.query(query_string, db='testpm')"
   ]
  },
  {
   "cell_type": "code",
   "execution_count": null,
   "metadata": {},
   "outputs": [],
   "source": [
    "query_string = '''\n",
    "MATCH (n) RETURN count(n)\n",
    "'''\n",
    "\n",
    "conn.query(query_string, db='testpm')"
   ]
  },
  {
   "cell_type": "code",
   "execution_count": null,
   "metadata": {},
   "outputs": [],
   "source": []
  },
  {
   "cell_type": "code",
   "execution_count": null,
   "metadata": {},
   "outputs": [],
   "source": [
    "query_string = '''\n",
    "USING PERIODIC COMMIT 10000\n",
    "LOAD CSV FROM 'file:///nsesec_col_300000.csv' AS line\n",
    "MERGE(a: Symbol { Symbol: line[1]})\n",
    "MERGE (b: Series {Series: line[2]})\n",
    "MERGE(c: Date { Date: line[3]})\n",
    "MERGE(d: Prev_Close { Prev_Close: line[4]})\n",
    "MERGE(e: Open { Open: line[5]})\n",
    "MERGE(f: High { High: line[6]})\n",
    "MERGE(g: Low { Low: line[7]})\n",
    "MERGE(h: LTP { LTP: line[8]})\n",
    "MERGE(i: Close { Close: line[9]})\n",
    "MERGE(j: Average_Price {Average_Price: line[10]})\n",
    "MERGE(k: Total_Traded_Quantity {Total_Traded_Quantity : line[11]})\n",
    "MERGE(l: Turnover {Turnover : line[12]})\n",
    "MERGE(m: No_of_Trades {No_Of_Trades: line[13]})\n",
    "MERGE(n: Deliverable_Qty {Deliverable_Qty: line[14]})\n",
    "MERGE(o: Deliverable_Qty_To_Traded_Qty {Deliverable_Qty_To_Traded_Qty: line[15]})\n",
    "//Relationships::\n",
    "\n",
    "\n",
    "MERGE (a)-[:Series]->(b)\n",
    "MERGE (a)-[:Date]->(c)\n",
    "MERGE (a)-[:Prev_Close]->(d)\n",
    "MERGE (a)-[:Open]->(e)\n",
    "MERGE (a)-[:High]->(f)\n",
    "MERGE (a)-[:Low]->(g)\n",
    "MERGE (a)-[:LTP]->(h)\n",
    "MERGE (a)-[:Close]->(i)\n",
    "MERGE (a)-[:Average_Price]->(j)\n",
    "MERGE (a)-[:Total_Traded_Quantity]->(k)\n",
    "MERGE (a)-[:Turnover]->(l)\n",
    "MERGE (a)-[:No_of_Trades]->(m)\n",
    "MERGE (a)-[:Deliverable_Qty]->(n)\n",
    "MERGE (a)-[:Deliverable_Qty_To_Traded_Qty]->(o)\n",
    "\n",
    "'''\n",
    "# started at 10 05\n",
    "conn.query(query_string, db='testpm')"
   ]
  },
  {
   "cell_type": "code",
   "execution_count": null,
   "metadata": {},
   "outputs": [],
   "source": [
    "query_string = '''\n",
    "MATCH (n) RETURN count(n)\n",
    "'''\n",
    "\n",
    "conn.query(query_string, db='testpm')"
   ]
  },
  {
   "cell_type": "code",
   "execution_count": null,
   "metadata": {},
   "outputs": [],
   "source": []
  },
  {
   "cell_type": "code",
   "execution_count": null,
   "metadata": {},
   "outputs": [],
   "source": [
    "query_string = '''\n",
    "USING PERIODIC COMMIT 10000\n",
    "LOAD CSV FROM 'file:///nsesec_col_100000.csv' AS line\n",
    "MERGE(a: Symbol { Symbol: line[1]})\n",
    "MERGE (b: Series {Series: line[2]})\n",
    "MERGE(c: Date { Date: line[3]})\n",
    "MERGE(d: Prev_Close { Prev_Close: line[4]})\n",
    "MERGE(e: Open { Open: line[5]})\n",
    "MERGE(f: High { High: line[6]})\n",
    "MERGE(g: Low { Low: line[7]})\n",
    "MERGE(h: LTP { LTP: line[8]})\n",
    "MERGE(i: Close { Close: line[9]})\n",
    "MERGE(j: Average_Price {Average_Price: line[10]})\n",
    "MERGE(k: Total_Traded_Quantity {Total_Traded_Quantity : line[11]})\n",
    "MERGE(l: Turnover {Turnover : line[12]})\n",
    "MERGE(m: No_of_Trades {No_Of_Trades: line[13]})\n",
    "MERGE(n: Deliverable_Qty {Deliverable_Qty: line[14]})\n",
    "MERGE(o: Deliverable_Qty_To_Traded_Qty {Deliverable_Qty_To_Traded_Qty: line[15]})\n",
    "//Relationships::\n",
    "\n",
    "\n",
    "MERGE (a)-[:Series]->(b)\n",
    "MERGE (a)-[:Date]->(c)\n",
    "MERGE (a)-[:Prev_Close]->(d)\n",
    "MERGE (a)-[:Open]->(e)\n",
    "MERGE (a)-[:High]->(f)\n",
    "MERGE (a)-[:Low]->(g)\n",
    "MERGE (a)-[:LTP]->(h)\n",
    "MERGE (a)-[:Close]->(i)\n",
    "MERGE (a)-[:Average_Price]->(j)\n",
    "MERGE (a)-[:Total_Traded_Quantity]->(k)\n",
    "MERGE (a)-[:Turnover]->(l)\n",
    "MERGE (a)-[:No_of_Trades]->(m)\n",
    "MERGE (a)-[:Deliverable_Qty]->(n)\n",
    "MERGE (a)-[:Deliverable_Qty_To_Traded_Qty]->(o)\n",
    "\n",
    "\n",
    "'''\n",
    "# started at 10 05\n",
    "conn.query(query_string, db='testpm')"
   ]
  },
  {
   "cell_type": "code",
   "execution_count": null,
   "metadata": {},
   "outputs": [],
   "source": [
    "query_string = '''\n",
    "MATCH (n) RETURN count(n)\n",
    "'''\n",
    "\n",
    "conn.query(query_string, db='testpm')"
   ]
  },
  {
   "cell_type": "code",
   "execution_count": null,
   "metadata": {},
   "outputs": [],
   "source": []
  },
  {
   "cell_type": "code",
   "execution_count": null,
   "metadata": {},
   "outputs": [],
   "source": []
  },
  {
   "cell_type": "code",
   "execution_count": null,
   "metadata": {},
   "outputs": [],
   "source": [
    "query_string = '''\n",
    "USING PERIODIC COMMIT 10000\n",
    "LOAD CSV FROM 'file:///nsesec_col_120000.csv' AS line\n",
    "MERGE(a: Symbol { Symbol: line[1]})\n",
    "MERGE (b: Series {Series: line[2]})\n",
    "MERGE(c: Date { Date: line[3]})\n",
    "MERGE(d: Prev_Close { Prev_Close: line[4]})\n",
    "MERGE(e: Open { Open: line[5]})\n",
    "MERGE(f: High { High: line[6]})\n",
    "MERGE(g: Low { Low: line[7]})\n",
    "MERGE(h: LTP { LTP: line[8]})\n",
    "MERGE(i: Close { Close: line[9]})\n",
    "MERGE(j: Average_Price {Average_Price: line[10]})\n",
    "MERGE(k: Total_Traded_Quantity {Total_Traded_Quantity : line[11]})\n",
    "MERGE(l: Turnover {Turnover : line[12]})\n",
    "MERGE(m: No_of_Trades {No_Of_Trades: line[13]})\n",
    "MERGE(n: Deliverable_Qty {Deliverable_Qty: line[14]})\n",
    "MERGE(o: Deliverable_Qty_To_Traded_Qty {Deliverable_Qty_To_Traded_Qty: line[15]})\n",
    "//Relationships::\n",
    "\n",
    "\n",
    "MERGE (a)-[:Series]->(b)\n",
    "MERGE (a)-[:Date]->(c)\n",
    "MERGE (a)-[:Prev_Close]->(d)\n",
    "MERGE (a)-[:Open]->(e)\n",
    "MERGE (a)-[:High]->(f)\n",
    "MERGE (a)-[:Low]->(g)\n",
    "MERGE (a)-[:LTP]->(h)\n",
    "MERGE (a)-[:Close]->(i)\n",
    "MERGE (a)-[:Average_Price]->(j)\n",
    "MERGE (a)-[:Total_Traded_Quantity]->(k)\n",
    "MERGE (a)-[:Turnover]->(l)\n",
    "MERGE (a)-[:No_of_Trades]->(m)\n",
    "MERGE (a)-[:Deliverable_Qty]->(n)\n",
    "MERGE (a)-[:Deliverable_Qty_To_Traded_Qty]->(o)\n",
    "\n",
    "'''\n",
    "# started at 10 05\n",
    "conn.query(query_string, db='testpm')"
   ]
  },
  {
   "cell_type": "code",
   "execution_count": null,
   "metadata": {},
   "outputs": [],
   "source": [
    "query_string = '''\n",
    "MATCH (n) RETURN count(n)\n",
    "'''\n",
    "\n",
    "conn.query(query_string, db='testpm')"
   ]
  },
  {
   "cell_type": "code",
   "execution_count": null,
   "metadata": {},
   "outputs": [],
   "source": []
  },
  {
   "cell_type": "code",
   "execution_count": null,
   "metadata": {},
   "outputs": [],
   "source": [
    "query_string = '''\n",
    "USING PERIODIC COMMIT 10000\n",
    "LOAD CSV FROM 'file:///nsesec_col_140000.csv' AS line\n",
    "MERGE(a: Symbol { Symbol: line[1]})\n",
    "MERGE (b: Series {Series: line[2]})\n",
    "MERGE(c: Date { Date: line[3]})\n",
    "MERGE(d: Prev_Close { Prev_Close: line[4]})\n",
    "MERGE(e: Open { Open: line[5]})\n",
    "MERGE(f: High { High: line[6]})\n",
    "MERGE(g: Low { Low: line[7]})\n",
    "MERGE(h: LTP { LTP: line[8]})\n",
    "MERGE(i: Close { Close: line[9]})\n",
    "MERGE(j: Average_Price {Average_Price: line[10]})\n",
    "MERGE(k: Total_Traded_Quantity {Total_Traded_Quantity : line[11]})\n",
    "MERGE(l: Turnover {Turnover : line[12]})\n",
    "MERGE(m: No_of_Trades {No_Of_Trades: line[13]})\n",
    "MERGE(n: Deliverable_Qty {Deliverable_Qty: line[14]})\n",
    "MERGE(o: Deliverable_Qty_To_Traded_Qty {Deliverable_Qty_To_Traded_Qty: line[15]})\n",
    "//Relationships::\n",
    "\n",
    "\n",
    "MERGE (a)-[:Series]->(b)\n",
    "MERGE (a)-[:Date]->(c)\n",
    "MERGE (a)-[:Prev_Close]->(d)\n",
    "MERGE (a)-[:Open]->(e)\n",
    "MERGE (a)-[:High]->(f)\n",
    "MERGE (a)-[:Low]->(g)\n",
    "MERGE (a)-[:LTP]->(h)\n",
    "MERGE (a)-[:Close]->(i)\n",
    "MERGE (a)-[:Average_Price]->(j)\n",
    "MERGE (a)-[:Total_Traded_Quantity]->(k)\n",
    "MERGE (a)-[:Turnover]->(l)\n",
    "MERGE (a)-[:No_of_Trades]->(m)\n",
    "MERGE (a)-[:Deliverable_Qty]->(n)\n",
    "MERGE (a)-[:Deliverable_Qty_To_Traded_Qty]->(o)\n",
    "'''\n",
    "# started at 10 05\n",
    "conn.query(query_string, db='testpm')"
   ]
  },
  {
   "cell_type": "code",
   "execution_count": null,
   "metadata": {},
   "outputs": [],
   "source": [
    "query_string = '''\n",
    "MATCH (n) RETURN count(n)\n",
    "'''\n",
    "\n",
    "conn.query(query_string, db='testpm')"
   ]
  },
  {
   "cell_type": "code",
   "execution_count": null,
   "metadata": {},
   "outputs": [],
   "source": []
  },
  {
   "cell_type": "code",
   "execution_count": null,
   "metadata": {},
   "outputs": [],
   "source": [
    "query_string = '''\n",
    "USING PERIODIC COMMIT 10000\n",
    "LOAD CSV FROM 'file:///nsesec_col_160000.csv' AS line\n",
    "MERGE(a: Symbol { Symbol: line[1]})\n",
    "MERGE (b: Series {Series: line[2]})\n",
    "MERGE(c: Date { Date: line[3]})\n",
    "MERGE(d: Prev_Close { Prev_Close: line[4]})\n",
    "MERGE(e: Open { Open: line[5]})\n",
    "MERGE(f: High { High: line[6]})\n",
    "MERGE(g: Low { Low: line[7]})\n",
    "MERGE(h: LTP { LTP: line[8]})\n",
    "MERGE(i: Close { Close: line[9]})\n",
    "MERGE(j: Average_Price {Average_Price: line[10]})\n",
    "MERGE(k: Total_Traded_Quantity {Total_Traded_Quantity : line[11]})\n",
    "MERGE(l: Turnover {Turnover : line[12]})\n",
    "MERGE(m: No_of_Trades {No_Of_Trades: line[13]})\n",
    "MERGE(n: Deliverable_Qty {Deliverable_Qty: line[14]})\n",
    "MERGE(o: Deliverable_Qty_To_Traded_Qty {Deliverable_Qty_To_Traded_Qty: line[15]})\n",
    "//Relationships::\n",
    "\n",
    "\n",
    "MERGE (a)-[:Series]->(b)\n",
    "MERGE (a)-[:Date]->(c)\n",
    "MERGE (a)-[:Prev_Close]->(d)\n",
    "MERGE (a)-[:Open]->(e)\n",
    "MERGE (a)-[:High]->(f)\n",
    "MERGE (a)-[:Low]->(g)\n",
    "MERGE (a)-[:LTP]->(h)\n",
    "MERGE (a)-[:Close]->(i)\n",
    "MERGE (a)-[:Average_Price]->(j)\n",
    "MERGE (a)-[:Total_Traded_Quantity]->(k)\n",
    "MERGE (a)-[:Turnover]->(l)\n",
    "MERGE (a)-[:No_of_Trades]->(m)\n",
    "MERGE (a)-[:Deliverable_Qty]->(n)\n",
    "MERGE (a)-[:Deliverable_Qty_To_Traded_Qty]->(o)\n",
    "'''\n",
    "# started at 10 05\n",
    "conn.query(query_string, db='testpm')"
   ]
  },
  {
   "cell_type": "code",
   "execution_count": null,
   "metadata": {},
   "outputs": [],
   "source": [
    "query_string = '''\n",
    "MATCH (n) RETURN count(n)\n",
    "'''\n",
    "\n",
    "conn.query(query_string, db='testpm')"
   ]
  },
  {
   "cell_type": "code",
   "execution_count": null,
   "metadata": {},
   "outputs": [],
   "source": []
  },
  {
   "cell_type": "code",
   "execution_count": null,
   "metadata": {},
   "outputs": [],
   "source": [
    "query_string = '''\n",
    "USING PERIODIC COMMIT 10000\n",
    "LOAD CSV FROM 'file:///nsesec_col_180000.csv' AS line\n",
    "MERGE(a: Symbol { Symbol: line[1]})\n",
    "MERGE (b: Series {Series: line[2]})\n",
    "MERGE(c: Date { Date: line[3]})\n",
    "MERGE(d: Prev_Close { Prev_Close: line[4]})\n",
    "MERGE(e: Open { Open: line[5]})\n",
    "MERGE(f: High { High: line[6]})\n",
    "MERGE(g: Low { Low: line[7]})\n",
    "MERGE(h: LTP { LTP: line[8]})\n",
    "MERGE(i: Close { Close: line[9]})\n",
    "MERGE(j: Average_Price {Average_Price: line[10]})\n",
    "MERGE(k: Total_Traded_Quantity {Total_Traded_Quantity : line[11]})\n",
    "MERGE(l: Turnover {Turnover : line[12]})\n",
    "MERGE(m: No_of_Trades {No_Of_Trades: line[13]})\n",
    "MERGE(n: Deliverable_Qty {Deliverable_Qty: line[14]})\n",
    "MERGE(o: Deliverable_Qty_To_Traded_Qty {Deliverable_Qty_To_Traded_Qty: line[15]})\n",
    "//Relationships::\n",
    "\n",
    "\n",
    "MERGE (a)-[:Series]->(b)\n",
    "MERGE (a)-[:Date]->(c)\n",
    "MERGE (a)-[:Prev_Close]->(d)\n",
    "MERGE (a)-[:Open]->(e)\n",
    "MERGE (a)-[:High]->(f)\n",
    "MERGE (a)-[:Low]->(g)\n",
    "MERGE (a)-[:LTP]->(h)\n",
    "MERGE (a)-[:Close]->(i)\n",
    "MERGE (a)-[:Average_Price]->(j)\n",
    "MERGE (a)-[:Total_Traded_Quantity]->(k)\n",
    "MERGE (a)-[:Turnover]->(l)\n",
    "MERGE (a)-[:No_of_Trades]->(m)\n",
    "MERGE (a)-[:Deliverable_Qty]->(n)\n",
    "MERGE (a)-[:Deliverable_Qty_To_Traded_Qty]->(o)\n",
    "\n",
    "'''\n",
    "# started at 10 05\n",
    "conn.query(query_string, db='testpm')"
   ]
  },
  {
   "cell_type": "code",
   "execution_count": null,
   "metadata": {},
   "outputs": [],
   "source": [
    "query_string = '''\n",
    "MATCH (n) RETURN count(n)\n",
    "'''\n",
    "\n",
    "conn.query(query_string, db='testpm')"
   ]
  },
  {
   "cell_type": "code",
   "execution_count": null,
   "metadata": {},
   "outputs": [],
   "source": []
  },
  {
   "cell_type": "code",
   "execution_count": null,
   "metadata": {},
   "outputs": [],
   "source": [
    "query_string = '''\n",
    "USING PERIODIC COMMIT 10000\n",
    "LOAD CSV FROM 'file:///nsesec_col_200000.csv' AS line\n",
    "MERGE(a: Symbol { Symbol: line[1]})\n",
    "MERGE (b: Series {Series: line[2]})\n",
    "MERGE(c: Date { Date: line[3]})\n",
    "MERGE(d: Prev_Close { Prev_Close: line[4]})\n",
    "MERGE(e: Open { Open: line[5]})\n",
    "MERGE(f: High { High: line[6]})\n",
    "MERGE(g: Low { Low: line[7]})\n",
    "MERGE(h: LTP { LTP: line[8]})\n",
    "MERGE(i: Close { Close: line[9]})\n",
    "MERGE(j: Average_Price {Average_Price: line[10]})\n",
    "MERGE(k: Total_Traded_Quantity {Total_Traded_Quantity : line[11]})\n",
    "MERGE(l: Turnover {Turnover : line[12]})\n",
    "MERGE(m: No_of_Trades {No_Of_Trades: line[13]})\n",
    "MERGE(n: Deliverable_Qty {Deliverable_Qty: line[14]})\n",
    "MERGE(o: Deliverable_Qty_To_Traded_Qty {Deliverable_Qty_To_Traded_Qty: line[15]})\n",
    "//Relationships::\n",
    "\n",
    "\n",
    "MERGE (a)-[:Series]->(b)\n",
    "MERGE (a)-[:Date]->(c)\n",
    "MERGE (a)-[:Prev_Close]->(d)\n",
    "MERGE (a)-[:Open]->(e)\n",
    "MERGE (a)-[:High]->(f)\n",
    "MERGE (a)-[:Low]->(g)\n",
    "MERGE (a)-[:LTP]->(h)\n",
    "MERGE (a)-[:Close]->(i)\n",
    "MERGE (a)-[:Average_Price]->(j)\n",
    "MERGE (a)-[:Total_Traded_Quantity]->(k)\n",
    "MERGE (a)-[:Turnover]->(l)\n",
    "MERGE (a)-[:No_of_Trades]->(m)\n",
    "MERGE (a)-[:Deliverable_Qty]->(n)\n",
    "MERGE (a)-[:Deliverable_Qty_To_Traded_Qty]->(o)\n",
    "\n",
    "'''\n",
    "# started at 10 05\n",
    "conn.query(query_string, db='testpm')"
   ]
  },
  {
   "cell_type": "code",
   "execution_count": null,
   "metadata": {},
   "outputs": [],
   "source": [
    "query_string = '''\n",
    "MATCH (n) RETURN count(n)\n",
    "'''\n",
    "\n",
    "conn.query(query_string, db='testpm')"
   ]
  },
  {
   "cell_type": "code",
   "execution_count": null,
   "metadata": {},
   "outputs": [],
   "source": []
  },
  {
   "cell_type": "code",
   "execution_count": null,
   "metadata": {},
   "outputs": [],
   "source": []
  },
  {
   "cell_type": "code",
   "execution_count": null,
   "metadata": {},
   "outputs": [],
   "source": []
  },
  {
   "cell_type": "code",
   "execution_count": null,
   "metadata": {},
   "outputs": [],
   "source": []
  },
  {
   "cell_type": "code",
   "execution_count": null,
   "metadata": {},
   "outputs": [],
   "source": []
  }
 ],
 "metadata": {
  "kernelspec": {
   "display_name": "Python 3",
   "language": "python",
   "name": "python3"
  },
  "language_info": {
   "codemirror_mode": {
    "name": "ipython",
    "version": 3
   },
   "file_extension": ".py",
   "mimetype": "text/x-python",
   "name": "python",
   "nbconvert_exporter": "python",
   "pygments_lexer": "ipython3",
   "version": "3.8.3"
  }
 },
 "nbformat": 4,
 "nbformat_minor": 4
}
