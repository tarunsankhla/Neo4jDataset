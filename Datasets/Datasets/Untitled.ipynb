{
 "cells": [
  {
   "cell_type": "code",
   "execution_count": 5,
   "metadata": {},
   "outputs": [],
   "source": [
    "import pandas as pd\n",
    "import numpy as np\n",
    "import glob"
   ]
  },
  {
   "cell_type": "code",
   "execution_count": 6,
   "metadata": {},
   "outputs": [],
   "source": [
    "frame = pd.read_csv(\"PreprocessNifty50Ftures.csv\")"
   ]
  },
  {
   "cell_type": "code",
   "execution_count": 7,
   "metadata": {},
   "outputs": [
    {
     "data": {
      "text/html": [
       "<div>\n",
       "<style scoped>\n",
       "    .dataframe tbody tr th:only-of-type {\n",
       "        vertical-align: middle;\n",
       "    }\n",
       "\n",
       "    .dataframe tbody tr th {\n",
       "        vertical-align: top;\n",
       "    }\n",
       "\n",
       "    .dataframe thead th {\n",
       "        text-align: right;\n",
       "    }\n",
       "</style>\n",
       "<table border=\"1\" class=\"dataframe\">\n",
       "  <thead>\n",
       "    <tr style=\"text-align: right;\">\n",
       "      <th></th>\n",
       "      <th>Date</th>\n",
       "      <th>Price</th>\n",
       "      <th>Open</th>\n",
       "      <th>High</th>\n",
       "      <th>Low</th>\n",
       "      <th>Volume</th>\n",
       "      <th>ChgPct</th>\n",
       "      <th>fDate</th>\n",
       "      <th>fVolume</th>\n",
       "    </tr>\n",
       "  </thead>\n",
       "  <tbody>\n",
       "    <tr>\n",
       "      <th>0</th>\n",
       "      <td>01-20-2020</td>\n",
       "      <td>12263.15</td>\n",
       "      <td>12413.4</td>\n",
       "      <td>12419.20</td>\n",
       "      <td>12252.00</td>\n",
       "      <td>9.51M</td>\n",
       "      <td>-0.98</td>\n",
       "      <td>20200120</td>\n",
       "      <td>9510000</td>\n",
       "    </tr>\n",
       "    <tr>\n",
       "      <th>1</th>\n",
       "      <td>01-17-2020</td>\n",
       "      <td>12384.65</td>\n",
       "      <td>12345.0</td>\n",
       "      <td>12407.50</td>\n",
       "      <td>12335.00</td>\n",
       "      <td>6.00M</td>\n",
       "      <td>0.08</td>\n",
       "      <td>20200117</td>\n",
       "      <td>6000000</td>\n",
       "    </tr>\n",
       "    <tr>\n",
       "      <th>2</th>\n",
       "      <td>01-16-2020</td>\n",
       "      <td>12374.35</td>\n",
       "      <td>12359.4</td>\n",
       "      <td>12409.40</td>\n",
       "      <td>12339.20</td>\n",
       "      <td>6.29M</td>\n",
       "      <td>-0.03</td>\n",
       "      <td>20200116</td>\n",
       "      <td>6290000</td>\n",
       "    </tr>\n",
       "    <tr>\n",
       "      <th>3</th>\n",
       "      <td>01-15-2020</td>\n",
       "      <td>12378.05</td>\n",
       "      <td>12363.4</td>\n",
       "      <td>12391.95</td>\n",
       "      <td>12319.05</td>\n",
       "      <td>6.39M</td>\n",
       "      <td>-0.15</td>\n",
       "      <td>20200115</td>\n",
       "      <td>6390000</td>\n",
       "    </tr>\n",
       "    <tr>\n",
       "      <th>4</th>\n",
       "      <td>01-14-2020</td>\n",
       "      <td>12397.00</td>\n",
       "      <td>12359.9</td>\n",
       "      <td>12412.50</td>\n",
       "      <td>12331.20</td>\n",
       "      <td>6.53M</td>\n",
       "      <td>0.28</td>\n",
       "      <td>20200114</td>\n",
       "      <td>6530000</td>\n",
       "    </tr>\n",
       "    <tr>\n",
       "      <th>...</th>\n",
       "      <td>...</td>\n",
       "      <td>...</td>\n",
       "      <td>...</td>\n",
       "      <td>...</td>\n",
       "      <td>...</td>\n",
       "      <td>...</td>\n",
       "      <td>...</td>\n",
       "      <td>...</td>\n",
       "      <td>...</td>\n",
       "    </tr>\n",
       "    <tr>\n",
       "      <th>4994</th>\n",
       "      <td>06-19-2000</td>\n",
       "      <td>1497.65</td>\n",
       "      <td>1482.0</td>\n",
       "      <td>1508.00</td>\n",
       "      <td>1479.00</td>\n",
       "      <td>21.40K</td>\n",
       "      <td>1.45</td>\n",
       "      <td>20000619</td>\n",
       "      <td>21400</td>\n",
       "    </tr>\n",
       "    <tr>\n",
       "      <th>4995</th>\n",
       "      <td>06-16-2000</td>\n",
       "      <td>1476.30</td>\n",
       "      <td>1456.7</td>\n",
       "      <td>1478.90</td>\n",
       "      <td>1452.00</td>\n",
       "      <td>20.20K</td>\n",
       "      <td>1.91</td>\n",
       "      <td>20000616</td>\n",
       "      <td>20200</td>\n",
       "    </tr>\n",
       "    <tr>\n",
       "      <th>4996</th>\n",
       "      <td>06-15-2000</td>\n",
       "      <td>1448.70</td>\n",
       "      <td>1445.0</td>\n",
       "      <td>1455.00</td>\n",
       "      <td>1436.00</td>\n",
       "      <td>14.20K</td>\n",
       "      <td>-0.06</td>\n",
       "      <td>20000615</td>\n",
       "      <td>14200</td>\n",
       "    </tr>\n",
       "    <tr>\n",
       "      <th>4997</th>\n",
       "      <td>06-14-2000</td>\n",
       "      <td>1449.50</td>\n",
       "      <td>1455.0</td>\n",
       "      <td>1463.10</td>\n",
       "      <td>1444.10</td>\n",
       "      <td>6.60K</td>\n",
       "      <td>0.75</td>\n",
       "      <td>20000614</td>\n",
       "      <td>6600</td>\n",
       "    </tr>\n",
       "    <tr>\n",
       "      <th>4998</th>\n",
       "      <td>06-13-2000</td>\n",
       "      <td>1438.75</td>\n",
       "      <td>1442.0</td>\n",
       "      <td>1449.00</td>\n",
       "      <td>1430.00</td>\n",
       "      <td>4.20K</td>\n",
       "      <td>-0.96</td>\n",
       "      <td>20000613</td>\n",
       "      <td>4200</td>\n",
       "    </tr>\n",
       "  </tbody>\n",
       "</table>\n",
       "<p>4999 rows × 9 columns</p>\n",
       "</div>"
      ],
      "text/plain": [
       "            Date     Price     Open      High       Low  Volume  ChgPct  \\\n",
       "0     01-20-2020  12263.15  12413.4  12419.20  12252.00   9.51M   -0.98   \n",
       "1     01-17-2020  12384.65  12345.0  12407.50  12335.00   6.00M    0.08   \n",
       "2     01-16-2020  12374.35  12359.4  12409.40  12339.20   6.29M   -0.03   \n",
       "3     01-15-2020  12378.05  12363.4  12391.95  12319.05   6.39M   -0.15   \n",
       "4     01-14-2020  12397.00  12359.9  12412.50  12331.20   6.53M    0.28   \n",
       "...          ...       ...      ...       ...       ...     ...     ...   \n",
       "4994  06-19-2000   1497.65   1482.0   1508.00   1479.00  21.40K    1.45   \n",
       "4995  06-16-2000   1476.30   1456.7   1478.90   1452.00  20.20K    1.91   \n",
       "4996  06-15-2000   1448.70   1445.0   1455.00   1436.00  14.20K   -0.06   \n",
       "4997  06-14-2000   1449.50   1455.0   1463.10   1444.10   6.60K    0.75   \n",
       "4998  06-13-2000   1438.75   1442.0   1449.00   1430.00   4.20K   -0.96   \n",
       "\n",
       "         fDate  fVolume  \n",
       "0     20200120  9510000  \n",
       "1     20200117  6000000  \n",
       "2     20200116  6290000  \n",
       "3     20200115  6390000  \n",
       "4     20200114  6530000  \n",
       "...        ...      ...  \n",
       "4994  20000619    21400  \n",
       "4995  20000616    20200  \n",
       "4996  20000615    14200  \n",
       "4997  20000614     6600  \n",
       "4998  20000613     4200  \n",
       "\n",
       "[4999 rows x 9 columns]"
      ]
     },
     "execution_count": 7,
     "metadata": {},
     "output_type": "execute_result"
    }
   ],
   "source": [
    "frame"
   ]
  },
  {
   "cell_type": "code",
   "execution_count": 8,
   "metadata": {},
   "outputs": [],
   "source": [
    "frame = frame.fillna(value=np.nan)"
   ]
  },
  {
   "cell_type": "code",
   "execution_count": 9,
   "metadata": {},
   "outputs": [],
   "source": [
    "frame = frame.fillna(-1)"
   ]
  },
  {
   "cell_type": "code",
   "execution_count": 10,
   "metadata": {},
   "outputs": [],
   "source": [
    "frame['Date']\n",
    "\n",
    "frame['Date'] = pd.to_datetime(frame.Date)"
   ]
  },
  {
   "cell_type": "code",
   "execution_count": 11,
   "metadata": {},
   "outputs": [],
   "source": [
    "frame['Date'] = frame['Date'].dt.strftime('%Y-%m-%d')"
   ]
  },
  {
   "cell_type": "code",
   "execution_count": 12,
   "metadata": {
    "scrolled": true
   },
   "outputs": [
    {
     "data": {
      "text/plain": [
       "0       2020-01-20\n",
       "1       2020-01-17\n",
       "2       2020-01-16\n",
       "3       2020-01-15\n",
       "4       2020-01-14\n",
       "           ...    \n",
       "4994    2000-06-19\n",
       "4995    2000-06-16\n",
       "4996    2000-06-15\n",
       "4997    2000-06-14\n",
       "4998    2000-06-13\n",
       "Name: Date, Length: 4999, dtype: object"
      ]
     },
     "execution_count": 12,
     "metadata": {},
     "output_type": "execute_result"
    }
   ],
   "source": [
    "frame['Date']"
   ]
  },
  {
   "cell_type": "code",
   "execution_count": null,
   "metadata": {},
   "outputs": [],
   "source": []
  },
  {
   "cell_type": "code",
   "execution_count": null,
   "metadata": {},
   "outputs": [],
   "source": []
  }
 ],
 "metadata": {
  "kernelspec": {
   "display_name": "Python 3",
   "language": "python",
   "name": "python3"
  },
  "language_info": {
   "codemirror_mode": {
    "name": "ipython",
    "version": 3
   },
   "file_extension": ".py",
   "mimetype": "text/x-python",
   "name": "python",
   "nbconvert_exporter": "python",
   "pygments_lexer": "ipython3",
   "version": "3.8.3"
  }
 },
 "nbformat": 4,
 "nbformat_minor": 4
}
